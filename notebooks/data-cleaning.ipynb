{
 "cells": [
  {
   "cell_type": "code",
   "execution_count": 1,
   "id": "b37dc4a0-e165-45b6-9bce-2885d7e50848",
   "metadata": {},
   "outputs": [],
   "source": [
    "import pandas as pd\n",
    "import numpy as np\n",
    "import json\n",
    "from collections import defaultdict\n",
    "import scipy"
   ]
  },
  {
   "cell_type": "code",
   "execution_count": 2,
   "id": "86563dec-e702-45ee-8937-6a5f88726587",
   "metadata": {},
   "outputs": [],
   "source": [
    "# Load in user data\n",
    "user_df = pd.read_csv('../data/user-df-1-22-2024.csv')"
   ]
  },
  {
   "cell_type": "code",
   "execution_count": 3,
   "id": "42e895b5-ddcc-4e0b-978d-39f8fe64f47b",
   "metadata": {},
   "outputs": [],
   "source": [
    "artists = user_df['artist_name'].unique()"
   ]
  },
  {
   "cell_type": "code",
   "execution_count": 4,
   "id": "bac6b52c-cd68-46f5-afa9-f5a9f31c1236",
   "metadata": {},
   "outputs": [],
   "source": [
    "with open('../data/artist_location_codes.json', 'r') as file:\n",
    "    artists_info = json.load(file)"
   ]
  },
  {
   "cell_type": "markdown",
   "id": "8c36b67b-3e26-4657-ae15-fb788acbacff",
   "metadata": {},
   "source": [
    "Before we can clean up the user data, we must first find out what artists we are going to keep and use for prediction. Since we're keeping artists whose country we know, we must first acquire that data."
   ]
  },
  {
   "cell_type": "code",
   "execution_count": 5,
   "id": "5c781007-e5b3-4f4c-8875-9484f02f37ee",
   "metadata": {},
   "outputs": [],
   "source": [
    "# Extracts all location data from an artist data API call\n",
    "def get_artist_locations(artist):\n",
    "    artist_locations = {}\n",
    "    if 'country' in artist:\n",
    "        artist_locations['country'] = artist['country']\n",
    "    else:\n",
    "        artist_locations['country'] = None\n",
    "\n",
    "    if 'area' in artist and artist['area'] is not None:\n",
    "        if type(artist['area']) is str:\n",
    "            artist_locations['area'] = artist['area']\n",
    "            artist_locations['iso-3166-1-codes'] = None\n",
    "            artist_locations['area-name'] = None\n",
    "            artist_locations['area-sort-name'] = None\n",
    "            artist_locations['iso-3166-2-codes'] = None\n",
    "        else:\n",
    "            if 'iso-3166-1-codes' in artist['area']:\n",
    "                artist_locations['iso-3166-1-codes'] = artist['area']['iso-3166-1-codes'][0]\n",
    "            else:\n",
    "                artist_locations['iso-3166-1-codes'] = None\n",
    "                \n",
    "            if 'iso-3166-2-codes' in artist['area']:\n",
    "                artist_locations['iso-3166-2-codes'] = artist['area']['iso-3166-2-codes'][0][:2]\n",
    "            else:\n",
    "                artist_locations['iso-3166-2-codes'] = None\n",
    "\n",
    "            if 'name' in artist['area']:\n",
    "                artist_locations['area-name'] = artist['area']['name']\n",
    "            else:\n",
    "                artist_locations['area-name'] = None\n",
    "\n",
    "            if 'sort-name' in artist['area']:\n",
    "                artist_locations['area-sort-name'] = artist['area']['sort-name']\n",
    "            else:\n",
    "                artist_locations['area-sort-name'] = None\n",
    "            \n",
    "            artist_locations['area'] = None\n",
    "    else:\n",
    "        artist_locations['area'] = None\n",
    "        artist_locations['iso-3166-1-codes'] = None\n",
    "        artist_locations['area-name'] = None\n",
    "        artist_locations['area-sort-name'] = None\n",
    "        artist_locations['iso-3166-2-codes'] = None\n",
    "    \n",
    "    return artist_locations"
   ]
  },
  {
   "cell_type": "code",
   "execution_count": 6,
   "id": "ecc3fa49-ec79-43f8-ba2a-97ed731a82f5",
   "metadata": {},
   "outputs": [],
   "source": [
    "artist_locations = {}\n",
    "for artist in artists:\n",
    "    if artist in artists_info:\n",
    "        artist_info = artists_info[artist]\n",
    "        artist_locations[artist] = get_artist_locations(artist_info)"
   ]
  },
  {
   "cell_type": "code",
   "execution_count": 7,
   "id": "06880f35-32fb-4376-a612-9f0a9d8d0ccd",
   "metadata": {},
   "outputs": [
    {
     "data": {
      "text/html": [
       "<div>\n",
       "<style scoped>\n",
       "    .dataframe tbody tr th:only-of-type {\n",
       "        vertical-align: middle;\n",
       "    }\n",
       "\n",
       "    .dataframe tbody tr th {\n",
       "        vertical-align: top;\n",
       "    }\n",
       "\n",
       "    .dataframe thead th {\n",
       "        text-align: right;\n",
       "    }\n",
       "</style>\n",
       "<table border=\"1\" class=\"dataframe\">\n",
       "  <thead>\n",
       "    <tr style=\"text-align: right;\">\n",
       "      <th></th>\n",
       "      <th>country</th>\n",
       "      <th>area</th>\n",
       "      <th>iso-3166-1-codes</th>\n",
       "      <th>area-name</th>\n",
       "      <th>area-sort-name</th>\n",
       "      <th>iso-3166-2-codes</th>\n",
       "    </tr>\n",
       "  </thead>\n",
       "  <tbody>\n",
       "    <tr>\n",
       "      <th>Jasmine Thompson</th>\n",
       "      <td>None</td>\n",
       "      <td>None</td>\n",
       "      <td>None</td>\n",
       "      <td>None</td>\n",
       "      <td>None</td>\n",
       "      <td>None</td>\n",
       "    </tr>\n",
       "    <tr>\n",
       "      <th>Eminem</th>\n",
       "      <td>None</td>\n",
       "      <td>None</td>\n",
       "      <td>None</td>\n",
       "      <td>None</td>\n",
       "      <td>None</td>\n",
       "      <td>None</td>\n",
       "    </tr>\n",
       "    <tr>\n",
       "      <th>Watsky</th>\n",
       "      <td>None</td>\n",
       "      <td>None</td>\n",
       "      <td>None</td>\n",
       "      <td>None</td>\n",
       "      <td>None</td>\n",
       "      <td>None</td>\n",
       "    </tr>\n",
       "    <tr>\n",
       "      <th>Linkin Park</th>\n",
       "      <td>None</td>\n",
       "      <td>None</td>\n",
       "      <td>None</td>\n",
       "      <td>None</td>\n",
       "      <td>None</td>\n",
       "      <td>None</td>\n",
       "    </tr>\n",
       "    <tr>\n",
       "      <th>twenty one pilots</th>\n",
       "      <td>None</td>\n",
       "      <td>None</td>\n",
       "      <td>None</td>\n",
       "      <td>None</td>\n",
       "      <td>None</td>\n",
       "      <td>None</td>\n",
       "    </tr>\n",
       "    <tr>\n",
       "      <th>...</th>\n",
       "      <td>...</td>\n",
       "      <td>...</td>\n",
       "      <td>...</td>\n",
       "      <td>...</td>\n",
       "      <td>...</td>\n",
       "      <td>...</td>\n",
       "    </tr>\n",
       "    <tr>\n",
       "      <th>Ray Conniff and His Orchestra</th>\n",
       "      <td>None</td>\n",
       "      <td>None</td>\n",
       "      <td>None</td>\n",
       "      <td>None</td>\n",
       "      <td>None</td>\n",
       "      <td>None</td>\n",
       "    </tr>\n",
       "    <tr>\n",
       "      <th>Dorit Chrysler</th>\n",
       "      <td>None</td>\n",
       "      <td>None</td>\n",
       "      <td>None</td>\n",
       "      <td>None</td>\n",
       "      <td>None</td>\n",
       "      <td>None</td>\n",
       "    </tr>\n",
       "    <tr>\n",
       "      <th>Skintone</th>\n",
       "      <td>None</td>\n",
       "      <td>None</td>\n",
       "      <td>None</td>\n",
       "      <td>None</td>\n",
       "      <td>None</td>\n",
       "      <td>None</td>\n",
       "    </tr>\n",
       "    <tr>\n",
       "      <th>Royale</th>\n",
       "      <td>None</td>\n",
       "      <td>None</td>\n",
       "      <td>None</td>\n",
       "      <td>None</td>\n",
       "      <td>None</td>\n",
       "      <td>None</td>\n",
       "    </tr>\n",
       "    <tr>\n",
       "      <th>DJ Stickle</th>\n",
       "      <td>None</td>\n",
       "      <td>None</td>\n",
       "      <td>None</td>\n",
       "      <td>None</td>\n",
       "      <td>None</td>\n",
       "      <td>None</td>\n",
       "    </tr>\n",
       "  </tbody>\n",
       "</table>\n",
       "<p>97310 rows × 6 columns</p>\n",
       "</div>"
      ],
      "text/plain": [
       "                              country  area iso-3166-1-codes area-name  \\\n",
       "Jasmine Thompson                 None  None             None      None   \n",
       "Eminem                           None  None             None      None   \n",
       "Watsky                           None  None             None      None   \n",
       "Linkin Park                      None  None             None      None   \n",
       "twenty one pilots                None  None             None      None   \n",
       "...                               ...   ...              ...       ...   \n",
       "Ray Conniff and His Orchestra    None  None             None      None   \n",
       "Dorit Chrysler                   None  None             None      None   \n",
       "Skintone                         None  None             None      None   \n",
       "Royale                           None  None             None      None   \n",
       "DJ Stickle                       None  None             None      None   \n",
       "\n",
       "                              area-sort-name iso-3166-2-codes  \n",
       "Jasmine Thompson                        None             None  \n",
       "Eminem                                  None             None  \n",
       "Watsky                                  None             None  \n",
       "Linkin Park                             None             None  \n",
       "twenty one pilots                       None             None  \n",
       "...                                      ...              ...  \n",
       "Ray Conniff and His Orchestra           None             None  \n",
       "Dorit Chrysler                          None             None  \n",
       "Skintone                                None             None  \n",
       "Royale                                  None             None  \n",
       "DJ Stickle                              None             None  \n",
       "\n",
       "[97310 rows x 6 columns]"
      ]
     },
     "execution_count": 7,
     "metadata": {},
     "output_type": "execute_result"
    }
   ],
   "source": [
    "# Artist location data in all forms available via API\n",
    "artist_locations_df = pd.DataFrame(artist_locations).transpose()\n",
    "artist_locations_df"
   ]
  },
  {
   "cell_type": "code",
   "execution_count": 8,
   "id": "b5be2c56-9289-4126-b102-7ef57712d174",
   "metadata": {},
   "outputs": [],
   "source": [
    "# Dict mapping artist location data to a country code\n",
    "area_to_code = {}\n",
    "for artist in artist_locations_df.iterrows():\n",
    "    if 'iso-3166-1-codes' in artist[1] and artist[1]['iso-3166-1-codes'] is not None:\n",
    "        for field in ['country', 'area-name', 'area-sort-name', 'area']:\n",
    "            if field in artist[1] and artist[1][field] is not None:\n",
    "                area_to_code[artist[1][field]] = artist[1]['iso-3166-1-codes']\n",
    "                \n",
    "    if 'iso-3166-2-codes' in artist[1] and artist[1]['iso-3166-2-codes'] is not None:\n",
    "        for field in ['country', 'area-name', 'area-sort-name', 'area']:\n",
    "            if field in artist[1] and artist[1][field] is not None:\n",
    "                area_to_code[artist[1][field]] = artist[1]['iso-3166-2-codes']"
   ]
  },
  {
   "cell_type": "code",
   "execution_count": 9,
   "id": "7345041e-5832-4bd5-909d-63484572b63a",
   "metadata": {},
   "outputs": [],
   "source": [
    "def artist_to_country(artist, mapping):\n",
    "    if 'iso-3166-1-codes' in artist:\n",
    "        return artist['iso-3166-1-codes']\n",
    "    elif 'iso-3166-2-codes' in artist:\n",
    "        return artist['iso-3166-2-codes']\n",
    "    else:\n",
    "        for field in ['country', 'area-name', 'area-sort-name', 'area']:\n",
    "            if field in artist and field in mapping:\n",
    "                return mapping[field]"
   ]
  },
  {
   "cell_type": "code",
   "execution_count": 10,
   "id": "8837ab39-987d-4ce2-8cc6-dadce6091b06",
   "metadata": {},
   "outputs": [],
   "source": [
    "# Mapping of artists to their country codes\n",
    "artist_location_codes = {}\n",
    "for artist in artist_locations_df.iterrows():\n",
    "    artist_code = artist_to_country(artist[1], area_to_code)\n",
    "    if artist_code is not None:\n",
    "        artist_location_codes[artist[0]] = artist_code"
   ]
  },
  {
   "cell_type": "code",
   "execution_count": 11,
   "id": "b0e61b63-1ee9-4211-b1b0-ca09c49926d0",
   "metadata": {},
   "outputs": [],
   "source": [
    "with open('../data/artist_location_codes.json', 'w') as file:\n",
    "    json.dump(artist_location_codes, file)"
   ]
  },
  {
   "cell_type": "markdown",
   "id": "62a54a2e-b1c0-4290-a415-3c74dc47e040",
   "metadata": {},
   "source": [
    "Now that we've found all the artists in our database who have countries of origin listed, we can clean up user_df and create our features."
   ]
  },
  {
   "cell_type": "code",
   "execution_count": 12,
   "id": "73b4ae86-08a3-4368-8031-f274837dbd2b",
   "metadata": {},
   "outputs": [
    {
     "data": {
      "text/plain": [
       "('DJ Stickle',\n",
       " country             None\n",
       " area                None\n",
       " iso-3166-1-codes    None\n",
       " area-name           None\n",
       " area-sort-name      None\n",
       " iso-3166-2-codes    None\n",
       " Name: DJ Stickle, dtype: object)"
      ]
     },
     "execution_count": 12,
     "metadata": {},
     "output_type": "execute_result"
    }
   ],
   "source": [
    "artist"
   ]
  },
  {
   "cell_type": "code",
   "execution_count": 13,
   "id": "8c592fbd-d352-4217-988b-4fbe6a532e33",
   "metadata": {},
   "outputs": [],
   "source": [
    "artists_to_keep = list(artist_location_codes.keys())"
   ]
  },
  {
   "cell_type": "code",
   "execution_count": 14,
   "id": "739c66a1-48f2-4569-ac19-4ca87231d1d8",
   "metadata": {},
   "outputs": [],
   "source": [
    "kept_artists_df = user_df[user_df['artist_name'].isin(artists_to_keep)]"
   ]
  },
  {
   "cell_type": "code",
   "execution_count": 15,
   "id": "11b5b186-3c80-4eaa-a673-1aa757513cd9",
   "metadata": {},
   "outputs": [
    {
     "data": {
      "text/html": [
       "<div>\n",
       "<style scoped>\n",
       "    .dataframe tbody tr th:only-of-type {\n",
       "        vertical-align: middle;\n",
       "    }\n",
       "\n",
       "    .dataframe tbody tr th {\n",
       "        vertical-align: top;\n",
       "    }\n",
       "\n",
       "    .dataframe thead th {\n",
       "        text-align: right;\n",
       "    }\n",
       "</style>\n",
       "<table border=\"1\" class=\"dataframe\">\n",
       "  <thead>\n",
       "    <tr style=\"text-align: right;\">\n",
       "      <th></th>\n",
       "      <th>Unnamed: 0</th>\n",
       "      <th>user</th>\n",
       "      <th>artist_name</th>\n",
       "      <th>play_count</th>\n",
       "      <th>artist_url</th>\n",
       "    </tr>\n",
       "  </thead>\n",
       "  <tbody>\n",
       "  </tbody>\n",
       "</table>\n",
       "</div>"
      ],
      "text/plain": [
       "Empty DataFrame\n",
       "Columns: [Unnamed: 0, user, artist_name, play_count, artist_url]\n",
       "Index: []"
      ]
     },
     "execution_count": 15,
     "metadata": {},
     "output_type": "execute_result"
    }
   ],
   "source": [
    "kept_artists_df"
   ]
  },
  {
   "cell_type": "code",
   "execution_count": 16,
   "id": "09237a9d-405c-4e99-a835-99ed10265319",
   "metadata": {},
   "outputs": [],
   "source": [
    "# Convert to sparse matrix so it can actually be stored on disk\n",
    "user_ids = kept_artists_df['user'].unique()\n",
    "artist_names = kept_artists_df['artist_name'].unique()\n",
    "\n",
    "user_to_index = {user: i for i, user in enumerate(user_ids)}\n",
    "artist_to_index = {artist: j for j, artist in enumerate(artist_names)}\n",
    "\n",
    "index_to_user = {i: user for user, i in user_to_index.items()}\n",
    "index_to_artist = {j: artist for artist, j in artist_to_index.items()}\n",
    "\n",
    "# Convert DataFrame rows to (row index, column index, value) tuples\n",
    "rows = kept_artists_df['user'].map(user_to_index)\n",
    "cols = kept_artists_df['artist_name'].map(artist_to_index)\n",
    "values = kept_artists_df['play_count']\n",
    "\n",
    "sparse_matrix = scipy.sparse.coo_matrix((values, (rows, cols)), shape=(len(user_ids), len(artist_names)))"
   ]
  },
  {
   "cell_type": "code",
   "execution_count": 17,
   "id": "039f4458-c9fc-4e2a-830a-bdc1b07f0167",
   "metadata": {},
   "outputs": [],
   "source": [
    "scipy.sparse.save_npz('../data/user_data.npz', sparse_matrix)"
   ]
  },
  {
   "cell_type": "code",
   "execution_count": 18,
   "id": "9ed946ab-ace9-4744-9b45-ff9130b343ea",
   "metadata": {},
   "outputs": [],
   "source": [
    "def get_user_play_ct(user):  # The user ID you want to query\n",
    "    user_index = user_to_index[user]\n",
    "\n",
    "    # To get all play counts for this user (returns a sparse matrix row slice)\n",
    "    user_play_counts = sparse_matrix.getrow(user_index)\n",
    "\n",
    "    # To convert to a dense format \n",
    "    user_play_counts_dense = user_play_counts.todense()\n",
    "    \n",
    "    return pd.Series(user_play_counts_dense.A1, artists_to_keep)"
   ]
  },
  {
   "cell_type": "code",
   "execution_count": 19,
   "id": "bbea7ef5-6fc9-4d5a-ad5c-a6880a9728e0",
   "metadata": {},
   "outputs": [],
   "source": [
    "with open('../data/filtered_user_df.csv', 'w', encoding='utf-8') as file:\n",
    "    file.write(kept_artists_df.to_csv())"
   ]
  },
  {
   "cell_type": "code",
   "execution_count": null,
   "id": "dba70183-bcd6-466a-9511-70e79f8a66c6",
   "metadata": {},
   "outputs": [],
   "source": []
  }
 ],
 "metadata": {
  "kernelspec": {
   "display_name": "Python 3 (ipykernel)",
   "language": "python",
   "name": "python3"
  },
  "language_info": {
   "codemirror_mode": {
    "name": "ipython",
    "version": 3
   },
   "file_extension": ".py",
   "mimetype": "text/x-python",
   "name": "python",
   "nbconvert_exporter": "python",
   "pygments_lexer": "ipython3",
   "version": "3.10.11"
  }
 },
 "nbformat": 4,
 "nbformat_minor": 5
}
