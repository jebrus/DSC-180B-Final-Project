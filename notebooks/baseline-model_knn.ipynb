{
 "cells": [
  {
   "cell_type": "code",
   "execution_count": 4,
   "id": "e4f81256",
   "metadata": {},
   "outputs": [],
   "source": [
    "## IMPORTS ##\n",
    "import pandas as pd\n",
    "import numpy as np\n",
    "from scipy import sparse\n",
    "from sklearn.neighbors import NearestNeighbors"
   ]
  },
  {
   "cell_type": "code",
   "execution_count": 2,
   "id": "f99596db",
   "metadata": {},
   "outputs": [
    {
     "data": {
      "text/html": [
       "<div>\n",
       "<style scoped>\n",
       "    .dataframe tbody tr th:only-of-type {\n",
       "        vertical-align: middle;\n",
       "    }\n",
       "\n",
       "    .dataframe tbody tr th {\n",
       "        vertical-align: top;\n",
       "    }\n",
       "\n",
       "    .dataframe thead th {\n",
       "        text-align: right;\n",
       "    }\n",
       "</style>\n",
       "<table border=\"1\" class=\"dataframe\">\n",
       "  <thead>\n",
       "    <tr style=\"text-align: right;\">\n",
       "      <th></th>\n",
       "      <th>user</th>\n",
       "      <th>artist_name</th>\n",
       "      <th>play_count</th>\n",
       "      <th>artist_url</th>\n",
       "    </tr>\n",
       "  </thead>\n",
       "  <tbody>\n",
       "    <tr>\n",
       "      <th>1259</th>\n",
       "      <td>ext_beck</td>\n",
       "      <td>Linkin Park</td>\n",
       "      <td>51318</td>\n",
       "      <td>https://www.last.fm/music/Linkin+Park</td>\n",
       "    </tr>\n",
       "    <tr>\n",
       "      <th>1260</th>\n",
       "      <td>ext_beck</td>\n",
       "      <td>Coldplay</td>\n",
       "      <td>21753</td>\n",
       "      <td>https://www.last.fm/music/Coldplay</td>\n",
       "    </tr>\n",
       "    <tr>\n",
       "      <th>1261</th>\n",
       "      <td>ext_beck</td>\n",
       "      <td>Moby</td>\n",
       "      <td>17404</td>\n",
       "      <td>https://www.last.fm/music/Moby</td>\n",
       "    </tr>\n",
       "    <tr>\n",
       "      <th>1262</th>\n",
       "      <td>ext_beck</td>\n",
       "      <td>Avril Lavigne</td>\n",
       "      <td>11340</td>\n",
       "      <td>https://www.last.fm/music/Avril+Lavigne</td>\n",
       "    </tr>\n",
       "    <tr>\n",
       "      <th>1263</th>\n",
       "      <td>ext_beck</td>\n",
       "      <td>Muse</td>\n",
       "      <td>8118</td>\n",
       "      <td>https://www.last.fm/music/Muse</td>\n",
       "    </tr>\n",
       "  </tbody>\n",
       "</table>\n",
       "</div>"
      ],
      "text/plain": [
       "          user    artist_name  play_count  \\\n",
       "1259  ext_beck    Linkin Park       51318   \n",
       "1260  ext_beck       Coldplay       21753   \n",
       "1261  ext_beck           Moby       17404   \n",
       "1262  ext_beck  Avril Lavigne       11340   \n",
       "1263  ext_beck           Muse        8118   \n",
       "\n",
       "                                   artist_url  \n",
       "1259    https://www.last.fm/music/Linkin+Park  \n",
       "1260       https://www.last.fm/music/Coldplay  \n",
       "1261           https://www.last.fm/music/Moby  \n",
       "1262  https://www.last.fm/music/Avril+Lavigne  \n",
       "1263           https://www.last.fm/music/Muse  "
      ]
     },
     "execution_count": 2,
     "metadata": {},
     "output_type": "execute_result"
    }
   ],
   "source": [
    "## DATA PROCESSING ##\n",
    "\n",
    "# read in user data\n",
    "user_df = pd.read_csv('filtered_user_df.csv')\n",
    "\n",
    "# drop unnecessary columns\n",
    "user_df.drop(columns=['Unnamed: 0', 'Unnamed: 0.1'], inplace=True)\n",
    "\n",
    "# filter out players with less than 125k total play counts\n",
    "user_totalplay = user_df.groupby('user')['play_count'].sum().reset_index(name='total_play_count') \n",
    "filtered_users = user_totalplay[user_totalplay['total_play_count'] >= 125000]['user']\n",
    "filtered_df = user_df[user_df['user'].isin(filtered_users)]\n",
    "\n",
    "# display data\n",
    "filtered_df.head(5)"
   ]
  },
  {
   "cell_type": "code",
   "execution_count": 7,
   "id": "84321399",
   "metadata": {},
   "outputs": [],
   "source": [
    "## MAKING MY OWN FILTERED SPARSE MATRIX ##\n",
    "# B/C IDK IF THE ONE JOSH MADE FILTERED OUT BY TOTAL PLAY COUNT\n",
    "\n",
    "# convert to sparse matrix so it can actually be stored on disk\n",
    "user_ids = filtered_df['user'].unique()\n",
    "artist_names = filtered_df['artist_name'].unique()\n",
    "\n",
    "user_to_index = {user: i for i, user in enumerate(user_ids)}\n",
    "artist_to_index = {artist: j for j, artist in enumerate(artist_names)}\n",
    "\n",
    "index_to_user = {i: user for user, i in user_to_index.items()}\n",
    "index_to_artist = {j: artist for artist, j in artist_to_index.items()}\n",
    "\n",
    "# convert DataFrame rows to (row index, column index, value) tuples\n",
    "rows = filtered_df['user'].map(user_to_index)\n",
    "cols = filtered_df['artist_name'].map(artist_to_index)\n",
    "values = filtered_df['play_count']\n",
    "\n",
    "sparse_matrix = sparse.coo_matrix((values, (rows, cols)), shape=(len(user_ids), len(artist_names)))\n",
    "\n",
    "# create sparse matrix of data and save into a file\n",
    "sparse.save_npz('baseline-user-data.npz', sparse_matrix)"
   ]
  },
  {
   "cell_type": "code",
   "execution_count": null,
   "id": "8b7d9735",
   "metadata": {},
   "outputs": [],
   "source": [
    "## THIS IS THE SPARSE MATRIX JOSH PROVIDED ##\n",
    "\n",
    "# load baseline user data\n",
    "# baseline_data = np.load('baseline_user_data.npz')\n",
    "\n",
    "# check available data\n",
    "# print(baseline_data.files)\n",
    "\n",
    "# access data\n",
    "# user_row = baseline_data['row']\n",
    "# print(f'row:\\n{user_row}\\n')\n",
    "\n",
    "# user_col = baseline_data['col']\n",
    "# print(f'col:\\n{user_col}\\n')\n",
    "\n",
    "# user_format = baseline_data['format']\n",
    "# print(f'format:\\n{user_format}\\n')\n",
    "\n",
    "# user_shape = baseline_data['shape']\n",
    "# print(f'shape:\\n{user_shape}\\n')\n",
    "\n",
    "# user_data = baseline_data['data']\n",
    "# print(f'data:\\n{user_data}\\n')"
   ]
  },
  {
   "cell_type": "code",
   "execution_count": 8,
   "id": "77ff1e65",
   "metadata": {},
   "outputs": [],
   "source": [
    "# KNN (USER-BASED FILTERING) ##\n",
    "\n",
    "# initialize model using cosine as our similarity metric \n",
    "# it's suitable for high-dimensional sparse matrices\n",
    "# it focuses on the vectors direction rather than vector length\n",
    "k = 2\n",
    "model = NearestNeighbors(metric='cosine', n_neighbors=k, n_jobs=-1)\n",
    "\n",
    "# fit model with sparse matrix\n",
    "model.fit(sparse_matrix)\n",
    "\n",
    "# compute nearest neighbors for each user\n",
    "distances, indices = model.kneighbors(sparse_matrix)"
   ]
  },
  {
   "cell_type": "code",
   "execution_count": 11,
   "id": "8d3e7970",
   "metadata": {},
   "outputs": [
    {
     "name": "stdout",
     "output_type": "stream",
     "text": [
      "Recommended items for user 0:\n",
      "{386, 776, 779, 1547, 1548, 410, 1562, 931, 552, 940, 1455, 559, 438, 1473, 1992, 201, 85, 9305, 9306, 9307, 9308, 350, 95, 357, 491, 364, 879, 113, 755, 116, 758, 122, 765}\n",
      "\n",
      "\n",
      "Recommended artists for user 0:\n",
      "['The Neighbourhood', 'My Chemical Romance', 'Panic! at the Disco', 'Good Charlotte', 'Avicii', 'Nickelback', 'OneRepublic', 'The Kooks', 'Kings of Leon', 'The All-American Rejects', 'Café Tacvba', 'Foster the People', 'The Strokes', 'Zoé', 'Hoobastank', 'Ellie Goulding', 'The xx', 'Jamie xx', 'Saybia', 'Nevada Tan', 'Café Tacuba', 'Oasis', 'Radiohead', 'Jimmy Eat World', 'Daft Punk', 'Red Hot Chili Peppers', 'Bring Me the Horizon', 'Arctic Monkeys', 'alt-J', 'Keane', 'M83', 'Lana Del Rey', 'Fall Out Boy']\n"
     ]
    }
   ],
   "source": [
    "## EXAMPLE ##\n",
    "# THE RECOMMENDATIONS ARE NOT IN ANY PARTICULAR ORDER \n",
    "# WE NEED TO DECIDE HOW MANY ARTISTS WE ARE RECOMMENDING (5?)\n",
    "# IF SO WE NEED TO KEEP TRACK OF SIMILARITY SCORES\n",
    "\n",
    "# recommending artists for user 0\n",
    "user_id = 0\n",
    "similar_users = indices[user_id]\n",
    "similar_distances = distances[user_id]\n",
    "\n",
    "# find items recommended by similar users but not already interacted with by user 0\n",
    "recommended_items = set()\n",
    "for neighbor in similar_users[1:]:  # Skip the first one because it's the user itself\n",
    "    recommended_items = recommended_items.union(set(sparse_matrix.getrow(neighbor).nonzero()[1]))\n",
    "\n",
    "current_items = set(sparse_matrix.getrow(user_id).nonzero()[1])\n",
    "recommended_items = recommended_items.difference(current_items)\n",
    "\n",
    "print(f'Recommended items for user {user_id}:\\n{recommended_items}\\n')\n",
    "\n",
    "# convert items back to artist names for readability\n",
    "recommended_artist_names = [index_to_artist[index] for index in recommended_items]\n",
    "\n",
    "print(f'\\nRecommended artists for user {user_id}:\\n{recommended_artist_names}')"
   ]
  },
  {
   "cell_type": "code",
   "execution_count": null,
   "id": "fe585708",
   "metadata": {},
   "outputs": [],
   "source": [
    "## EVALUATION ##"
   ]
  },
  {
   "cell_type": "code",
   "execution_count": null,
   "id": "a8ce26e5",
   "metadata": {},
   "outputs": [],
   "source": [
    "## HYPERPARAMETER TUNING ##\n",
    "# not sure how to go about this, what's my metric for optimization?"
   ]
  },
  {
   "cell_type": "code",
   "execution_count": null,
   "id": "2d08a912",
   "metadata": {},
   "outputs": [],
   "source": []
  }
 ],
 "metadata": {
  "kernelspec": {
   "display_name": "Python 3 (ipykernel)",
   "language": "python",
   "name": "python3"
  },
  "language_info": {
   "codemirror_mode": {
    "name": "ipython",
    "version": 3
   },
   "file_extension": ".py",
   "mimetype": "text/x-python",
   "name": "python",
   "nbconvert_exporter": "python",
   "pygments_lexer": "ipython3",
   "version": "3.9.7"
  }
 },
 "nbformat": 4,
 "nbformat_minor": 5
}
