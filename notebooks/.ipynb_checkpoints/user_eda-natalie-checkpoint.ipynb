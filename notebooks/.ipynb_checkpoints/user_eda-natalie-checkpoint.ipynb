{
 "cells": [
  {
   "cell_type": "markdown",
   "id": "77924474",
   "metadata": {},
   "source": [
    "# Last.fm User Data Exploratory Data Analysis"
   ]
  },
  {
   "cell_type": "markdown",
   "id": "981d08cd",
   "metadata": {},
   "source": [
    "note: this is a draft and more raw, can be more professional (i.e. provide more interpretations) in a finalized version if needed\n",
    "\n",
    "note for teammates: try working with the bivariate analysis and maybe finding out more about outliers because those could affect our model, maybe combine with data-demos notebook to make it more finalized version that emily wants"
   ]
  },
  {
   "cell_type": "markdown",
   "id": "42cae129",
   "metadata": {},
   "source": [
    "## Setup and Load Dataset"
   ]
  },
  {
   "cell_type": "code",
   "execution_count": 108,
   "id": "0de8ef63",
   "metadata": {},
   "outputs": [],
   "source": [
    "# imports\n",
    "import pandas as pd\n",
    "from matplotlib import pyplot as plt\n",
    "import matplotlib.ticker as ticker"
   ]
  },
  {
   "cell_type": "code",
   "execution_count": 20,
   "id": "e0de1f85",
   "metadata": {},
   "outputs": [],
   "source": [
    "# read in user data\n",
    "file_path = 'C:/Users/radia/Documents/4th year/w_23/dsc180b_w23/filtered_user_df.csv'\n",
    "user_df = pd.read_csv(file_path)"
   ]
  },
  {
   "cell_type": "code",
   "execution_count": 23,
   "id": "450f3210",
   "metadata": {},
   "outputs": [
    {
     "data": {
      "text/html": [
       "<div>\n",
       "<style scoped>\n",
       "    .dataframe tbody tr th:only-of-type {\n",
       "        vertical-align: middle;\n",
       "    }\n",
       "\n",
       "    .dataframe tbody tr th {\n",
       "        vertical-align: top;\n",
       "    }\n",
       "\n",
       "    .dataframe thead th {\n",
       "        text-align: right;\n",
       "    }\n",
       "</style>\n",
       "<table border=\"1\" class=\"dataframe\">\n",
       "  <thead>\n",
       "    <tr style=\"text-align: right;\">\n",
       "      <th></th>\n",
       "      <th>Unnamed: 0</th>\n",
       "      <th>Unnamed: 0.1</th>\n",
       "      <th>user</th>\n",
       "      <th>artist_name</th>\n",
       "      <th>play_count</th>\n",
       "      <th>artist_url</th>\n",
       "    </tr>\n",
       "  </thead>\n",
       "  <tbody>\n",
       "    <tr>\n",
       "      <th>0</th>\n",
       "      <td>0</td>\n",
       "      <td>0</td>\n",
       "      <td>nyancrimew</td>\n",
       "      <td>Jasmine Thompson</td>\n",
       "      <td>7559</td>\n",
       "      <td>https://www.last.fm/music/Jasmine+Thompson</td>\n",
       "    </tr>\n",
       "    <tr>\n",
       "      <th>1</th>\n",
       "      <td>1</td>\n",
       "      <td>1</td>\n",
       "      <td>nyancrimew</td>\n",
       "      <td>Eminem</td>\n",
       "      <td>5851</td>\n",
       "      <td>https://www.last.fm/music/Eminem</td>\n",
       "    </tr>\n",
       "    <tr>\n",
       "      <th>2</th>\n",
       "      <td>2</td>\n",
       "      <td>2</td>\n",
       "      <td>nyancrimew</td>\n",
       "      <td>Watsky</td>\n",
       "      <td>3044</td>\n",
       "      <td>https://www.last.fm/music/Watsky</td>\n",
       "    </tr>\n",
       "    <tr>\n",
       "      <th>3</th>\n",
       "      <td>3</td>\n",
       "      <td>3</td>\n",
       "      <td>nyancrimew</td>\n",
       "      <td>Linkin Park</td>\n",
       "      <td>2938</td>\n",
       "      <td>https://www.last.fm/music/Linkin+Park</td>\n",
       "    </tr>\n",
       "    <tr>\n",
       "      <th>4</th>\n",
       "      <td>7</td>\n",
       "      <td>7</td>\n",
       "      <td>nyancrimew</td>\n",
       "      <td>twenty one pilots</td>\n",
       "      <td>1849</td>\n",
       "      <td>https://www.last.fm/music/twenty+one+pilots</td>\n",
       "    </tr>\n",
       "  </tbody>\n",
       "</table>\n",
       "</div>"
      ],
      "text/plain": [
       "   Unnamed: 0  Unnamed: 0.1        user        artist_name  play_count  \\\n",
       "0           0             0  nyancrimew   Jasmine Thompson        7559   \n",
       "1           1             1  nyancrimew             Eminem        5851   \n",
       "2           2             2  nyancrimew             Watsky        3044   \n",
       "3           3             3  nyancrimew        Linkin Park        2938   \n",
       "4           7             7  nyancrimew  twenty one pilots        1849   \n",
       "\n",
       "                                    artist_url  \n",
       "0   https://www.last.fm/music/Jasmine+Thompson  \n",
       "1             https://www.last.fm/music/Eminem  \n",
       "2             https://www.last.fm/music/Watsky  \n",
       "3        https://www.last.fm/music/Linkin+Park  \n",
       "4  https://www.last.fm/music/twenty+one+pilots  "
      ]
     },
     "execution_count": 23,
     "metadata": {},
     "output_type": "execute_result"
    }
   ],
   "source": [
    "# display data\n",
    "user_df.head(5)"
   ]
  },
  {
   "cell_type": "markdown",
   "id": "20a4a94d",
   "metadata": {},
   "source": [
    "## Understanding the Dataset"
   ]
  },
  {
   "cell_type": "code",
   "execution_count": 47,
   "id": "8c4ffa8d",
   "metadata": {},
   "outputs": [
    {
     "name": "stdout",
     "output_type": "stream",
     "text": [
      "DataFrame Shape:\n",
      "(7682455, 6)\n",
      "\n",
      "DataFrame Columns Data Type:\n",
      "Unnamed: 0       int64\n",
      "Unnamed: 0.1     int64\n",
      "user            object\n",
      "artist_name     object\n",
      "play_count       int64\n",
      "artist_url      object\n",
      "dtype: object\n",
      "\n",
      "Number of Missing Values per Column:\n",
      "Unnamed: 0      0\n",
      "Unnamed: 0.1    0\n",
      "user            0\n",
      "artist_name     0\n",
      "play_count      0\n",
      "artist_url      0\n",
      "dtype: int64\n",
      "\n"
     ]
    }
   ],
   "source": [
    "# basic dataset understanding and check\n",
    "print(f'DataFrame Shape:\\n{user_df.shape}\\n')\n",
    "\n",
    "print(f'DataFrame Columns Data Type:\\n{user_df.dtypes}\\n')\n",
    "\n",
    "print(f'Number of Missing Values per Column:\\n{user_df.isna().sum()}\\n')"
   ]
  },
  {
   "cell_type": "markdown",
   "id": "fd4fec54",
   "metadata": {},
   "source": [
    "## Numerical Analysis"
   ]
  },
  {
   "cell_type": "markdown",
   "id": "da92a026",
   "metadata": {},
   "source": [
    "### Play Counts"
   ]
  },
  {
   "cell_type": "code",
   "execution_count": 62,
   "id": "59af677e",
   "metadata": {},
   "outputs": [
    {
     "name": "stdout",
     "output_type": "stream",
     "text": [
      "Summary Statistics of Plays:\n",
      "count    7.682455e+06\n",
      "mean     5.763435e+02\n",
      "std      2.436419e+03\n",
      "min      1.000000e+00\n",
      "25%      6.800000e+01\n",
      "50%      2.290000e+02\n",
      "75%      5.880000e+02\n",
      "max      2.352717e+06\n",
      "Name: play_count, dtype: float64\n"
     ]
    }
   ],
   "source": [
    "# numerical analysis\n",
    "print(f'Summary Statistics of Plays:\\n{user_df[\"play_count\"].describe()}')"
   ]
  },
  {
   "cell_type": "code",
   "execution_count": 146,
   "id": "cd36764c",
   "metadata": {},
   "outputs": [
    {
     "data": {
      "image/png": "[encoded data removed]",
      "text/plain": [
       "<Figure size 720x432 with 1 Axes>"
      ]
     },
     "metadata": {
      "needs_background": "light"
     },
     "output_type": "display_data"
    }
   ],
   "source": [
    "plt.figure(figsize=(10, 6))\n",
    "plt.hist(user_df['play_count'], bins=100, edgecolor='k', alpha=0.7)\n",
    "\n",
    "plt.yscale('log', nonpositive='clip') \n",
    "\n",
    "plt.xlabel('Play Count')\n",
    "plt.ylabel('Frequency (Log Scale)')\n",
    "plt.title(\"Distribution of Play Count\")\n",
    "\n",
    "ax = plt.gca()\n",
    "ax.xaxis.set_major_formatter(ticker.StrMethodFormatter('{x:,.0f}'))\n",
    "\n",
    "plt.show()"
   ]
  },
  {
   "cell_type": "markdown",
   "id": "78a2f1d8",
   "metadata": {},
   "source": [
    "## Categorical Analysis"
   ]
  },
  {
   "cell_type": "markdown",
   "id": "e03a4649",
   "metadata": {},
   "source": [
    "### Users"
   ]
  },
  {
   "cell_type": "code",
   "execution_count": 63,
   "id": "e42d6cef",
   "metadata": {},
   "outputs": [
    {
     "name": "stdout",
     "output_type": "stream",
     "text": [
      "Number of Unique Users:\n",
      "193707\n"
     ]
    }
   ],
   "source": [
    "# categorical analysis\n",
    "print(f'Number of Unique Users:\\n{len(user_df[\"user\"].unique())}')"
   ]
  },
  {
   "cell_type": "code",
   "execution_count": 147,
   "id": "efa76384",
   "metadata": {},
   "outputs": [],
   "source": [
    "# create dataframe of users and their total_play_count to analyze usage\n",
    "user_totalplay = user_df.groupby('user')['play_count'].sum().reset_index(name='total_play_count')"
   ]
  },
  {
   "cell_type": "code",
   "execution_count": 148,
   "id": "71e4cd9a",
   "metadata": {},
   "outputs": [
    {
     "data": {
      "text/html": [
       "<div>\n",
       "<style scoped>\n",
       "    .dataframe tbody tr th:only-of-type {\n",
       "        vertical-align: middle;\n",
       "    }\n",
       "\n",
       "    .dataframe tbody tr th {\n",
       "        vertical-align: top;\n",
       "    }\n",
       "\n",
       "    .dataframe thead th {\n",
       "        text-align: right;\n",
       "    }\n",
       "</style>\n",
       "<table border=\"1\" class=\"dataframe\">\n",
       "  <thead>\n",
       "    <tr style=\"text-align: right;\">\n",
       "      <th></th>\n",
       "      <th>user</th>\n",
       "      <th>total_play_count</th>\n",
       "    </tr>\n",
       "  </thead>\n",
       "  <tbody>\n",
       "    <tr>\n",
       "      <th>170305</th>\n",
       "      <td>shodate76</td>\n",
       "      <td>3714448</td>\n",
       "    </tr>\n",
       "    <tr>\n",
       "      <th>72935</th>\n",
       "      <td>Zandhr</td>\n",
       "      <td>2125259</td>\n",
       "    </tr>\n",
       "    <tr>\n",
       "      <th>116877</th>\n",
       "      <td>higorrz</td>\n",
       "      <td>2109043</td>\n",
       "    </tr>\n",
       "    <tr>\n",
       "      <th>850</th>\n",
       "      <td>AGGAV</td>\n",
       "      <td>1741957</td>\n",
       "    </tr>\n",
       "    <tr>\n",
       "      <th>91611</th>\n",
       "      <td>chemkelly</td>\n",
       "      <td>1627015</td>\n",
       "    </tr>\n",
       "    <tr>\n",
       "      <th>94853</th>\n",
       "      <td>crs16520</td>\n",
       "      <td>1618729</td>\n",
       "    </tr>\n",
       "    <tr>\n",
       "      <th>146505</th>\n",
       "      <td>monarcaladeus</td>\n",
       "      <td>1529169</td>\n",
       "    </tr>\n",
       "    <tr>\n",
       "      <th>90823</th>\n",
       "      <td>celestuls</td>\n",
       "      <td>1333451</td>\n",
       "    </tr>\n",
       "    <tr>\n",
       "      <th>158650</th>\n",
       "      <td>pixzen</td>\n",
       "      <td>1217551</td>\n",
       "    </tr>\n",
       "    <tr>\n",
       "      <th>45620</th>\n",
       "      <td>Morris_Albert_</td>\n",
       "      <td>1198810</td>\n",
       "    </tr>\n",
       "  </tbody>\n",
       "</table>\n",
       "</div>"
      ],
      "text/plain": [
       "                  user  total_play_count\n",
       "170305       shodate76           3714448\n",
       "72935           Zandhr           2125259\n",
       "116877         higorrz           2109043\n",
       "850              AGGAV           1741957\n",
       "91611        chemkelly           1627015\n",
       "94853         crs16520           1618729\n",
       "146505   monarcaladeus           1529169\n",
       "90823        celestuls           1333451\n",
       "158650          pixzen           1217551\n",
       "45620   Morris_Albert_           1198810"
      ]
     },
     "execution_count": 148,
     "metadata": {},
     "output_type": "execute_result"
    }
   ],
   "source": [
    "# top 10 users\n",
    "super_users = user_totalplay.nlargest(10, 'total_play_count')\n",
    "super_users"
   ]
  },
  {
   "cell_type": "code",
   "execution_count": 149,
   "id": "6f8970c2",
   "metadata": {},
   "outputs": [
    {
     "data": {
      "text/html": [
       "<div>\n",
       "<style scoped>\n",
       "    .dataframe tbody tr th:only-of-type {\n",
       "        vertical-align: middle;\n",
       "    }\n",
       "\n",
       "    .dataframe tbody tr th {\n",
       "        vertical-align: top;\n",
       "    }\n",
       "\n",
       "    .dataframe thead th {\n",
       "        text-align: right;\n",
       "    }\n",
       "</style>\n",
       "<table border=\"1\" class=\"dataframe\">\n",
       "  <thead>\n",
       "    <tr style=\"text-align: right;\">\n",
       "      <th></th>\n",
       "      <th>user</th>\n",
       "      <th>total_play_count</th>\n",
       "    </tr>\n",
       "  </thead>\n",
       "  <tbody>\n",
       "    <tr>\n",
       "      <th>236</th>\n",
       "      <td>09-D</td>\n",
       "      <td>1</td>\n",
       "    </tr>\n",
       "    <tr>\n",
       "      <th>294</th>\n",
       "      <td>12k</td>\n",
       "      <td>1</td>\n",
       "    </tr>\n",
       "    <tr>\n",
       "      <th>647</th>\n",
       "      <td>70x</td>\n",
       "      <td>1</td>\n",
       "    </tr>\n",
       "    <tr>\n",
       "      <th>653</th>\n",
       "      <td>77klash</td>\n",
       "      <td>1</td>\n",
       "    </tr>\n",
       "    <tr>\n",
       "      <th>1461</th>\n",
       "      <td>AdamKritz7861</td>\n",
       "      <td>1</td>\n",
       "    </tr>\n",
       "    <tr>\n",
       "      <th>1473</th>\n",
       "      <td>AdamTudor</td>\n",
       "      <td>1</td>\n",
       "    </tr>\n",
       "    <tr>\n",
       "      <th>1538</th>\n",
       "      <td>AdenLie</td>\n",
       "      <td>1</td>\n",
       "    </tr>\n",
       "    <tr>\n",
       "      <th>2755</th>\n",
       "      <td>AlienHeroine</td>\n",
       "      <td>1</td>\n",
       "    </tr>\n",
       "    <tr>\n",
       "      <th>2933</th>\n",
       "      <td>AllieFWxMD</td>\n",
       "      <td>1</td>\n",
       "    </tr>\n",
       "    <tr>\n",
       "      <th>3372</th>\n",
       "      <td>AmrEgy</td>\n",
       "      <td>1</td>\n",
       "    </tr>\n",
       "  </tbody>\n",
       "</table>\n",
       "</div>"
      ],
      "text/plain": [
       "               user  total_play_count\n",
       "236            09-D                 1\n",
       "294             12k                 1\n",
       "647             70x                 1\n",
       "653         77klash                 1\n",
       "1461  AdamKritz7861                 1\n",
       "1473      AdamTudor                 1\n",
       "1538        AdenLie                 1\n",
       "2755   AlienHeroine                 1\n",
       "2933     AllieFWxMD                 1\n",
       "3372         AmrEgy                 1"
      ]
     },
     "execution_count": 149,
     "metadata": {},
     "output_type": "execute_result"
    }
   ],
   "source": [
    "# bottom 10 users\n",
    "bottom_users = user_totalplay.nsmallest(10, 'total_play_count')\n",
    "bottom_users"
   ]
  },
  {
   "cell_type": "markdown",
   "id": "5db281d6",
   "metadata": {},
   "source": [
    "note: blurb about the difference in the usage based on playcounts"
   ]
  },
  {
   "cell_type": "code",
   "execution_count": 151,
   "id": "c391ea1c",
   "metadata": {},
   "outputs": [
    {
     "data": {
      "image/png": "[encoded data removed]",
      "text/plain": [
       "<Figure size 720x432 with 1 Axes>"
      ]
     },
     "metadata": {
      "needs_background": "light"
     },
     "output_type": "display_data"
    }
   ],
   "source": [
    "# get a graph of users and their total play counts\n",
    "plt.figure(figsize=(10, 6))\n",
    "plt.hist(user_totalplay['total_play_count'], bins=100, edgecolor='k', alpha=0.7)\n",
    "\n",
    "plt.yscale('log', nonpositive='clip') \n",
    "\n",
    "plt.xlabel('Total Play Count')\n",
    "plt.ylabel('Frequency (Log Scale)')\n",
    "plt.title(\"Distribution of Users' Total Play Count\")\n",
    "\n",
    "ax = plt.gca()\n",
    "ax.xaxis.set_major_formatter(ticker.StrMethodFormatter('{x:,.0f}'))\n",
    "\n",
    "plt.show()"
   ]
  },
  {
   "cell_type": "markdown",
   "id": "7f74d5fa",
   "metadata": {},
   "source": [
    "### Artists"
   ]
  },
  {
   "cell_type": "code",
   "execution_count": 66,
   "id": "4658d886",
   "metadata": {},
   "outputs": [
    {
     "name": "stdout",
     "output_type": "stream",
     "text": [
      "Number of Unique Artists:\n",
      "97310\n"
     ]
    }
   ],
   "source": [
    "print(f'Number of Unique Artists:\\n{len(user_df[\"artist_name\"].unique())}')"
   ]
  },
  {
   "cell_type": "code",
   "execution_count": 134,
   "id": "8c2d4446",
   "metadata": {},
   "outputs": [],
   "source": [
    "# create dataframe of artists and their total_play_count to analyze populartity\n",
    "artist_totalplay = user_df.groupby('artist_name')['play_count'].sum().reset_index(name='total_play_count')"
   ]
  },
  {
   "cell_type": "code",
   "execution_count": 166,
   "id": "25225d31",
   "metadata": {},
   "outputs": [
    {
     "data": {
      "text/html": [
       "<div>\n",
       "<style scoped>\n",
       "    .dataframe tbody tr th:only-of-type {\n",
       "        vertical-align: middle;\n",
       "    }\n",
       "\n",
       "    .dataframe tbody tr th {\n",
       "        vertical-align: top;\n",
       "    }\n",
       "\n",
       "    .dataframe thead th {\n",
       "        text-align: right;\n",
       "    }\n",
       "</style>\n",
       "<table border=\"1\" class=\"dataframe\">\n",
       "  <thead>\n",
       "    <tr style=\"text-align: right;\">\n",
       "      <th></th>\n",
       "      <th>artist_name</th>\n",
       "      <th>total_play_count</th>\n",
       "    </tr>\n",
       "  </thead>\n",
       "  <tbody>\n",
       "    <tr>\n",
       "      <th>64569</th>\n",
       "      <td>Radiohead</td>\n",
       "      <td>41983697</td>\n",
       "    </tr>\n",
       "    <tr>\n",
       "      <th>76600</th>\n",
       "      <td>Taylor Swift</td>\n",
       "      <td>34268632</td>\n",
       "    </tr>\n",
       "    <tr>\n",
       "      <th>45673</th>\n",
       "      <td>Lady Gaga</td>\n",
       "      <td>32091963</td>\n",
       "    </tr>\n",
       "    <tr>\n",
       "      <th>5846</th>\n",
       "      <td>Arctic Monkeys</td>\n",
       "      <td>26447442</td>\n",
       "    </tr>\n",
       "    <tr>\n",
       "      <th>45808</th>\n",
       "      <td>Lana Del Rey</td>\n",
       "      <td>25931664</td>\n",
       "    </tr>\n",
       "    <tr>\n",
       "      <th>12187</th>\n",
       "      <td>Britney Spears</td>\n",
       "      <td>24100274</td>\n",
       "    </tr>\n",
       "    <tr>\n",
       "      <th>55766</th>\n",
       "      <td>Muse</td>\n",
       "      <td>22845764</td>\n",
       "    </tr>\n",
       "    <tr>\n",
       "      <th>16649</th>\n",
       "      <td>Coldplay</td>\n",
       "      <td>21327175</td>\n",
       "    </tr>\n",
       "    <tr>\n",
       "      <th>53064</th>\n",
       "      <td>Metallica</td>\n",
       "      <td>20587889</td>\n",
       "    </tr>\n",
       "    <tr>\n",
       "      <th>47485</th>\n",
       "      <td>Linkin Park</td>\n",
       "      <td>18686664</td>\n",
       "    </tr>\n",
       "  </tbody>\n",
       "</table>\n",
       "</div>"
      ],
      "text/plain": [
       "          artist_name  total_play_count\n",
       "64569       Radiohead          41983697\n",
       "76600    Taylor Swift          34268632\n",
       "45673       Lady Gaga          32091963\n",
       "5846   Arctic Monkeys          26447442\n",
       "45808    Lana Del Rey          25931664\n",
       "12187  Britney Spears          24100274\n",
       "55766            Muse          22845764\n",
       "16649        Coldplay          21327175\n",
       "53064       Metallica          20587889\n",
       "47485     Linkin Park          18686664"
      ]
     },
     "execution_count": 166,
     "metadata": {},
     "output_type": "execute_result"
    }
   ],
   "source": [
    "# top 10 artists with most plays\n",
    "top_artists = artist_totalplay.nlargest(10, 'total_play_count')\n",
    "top_artists"
   ]
  },
  {
   "cell_type": "code",
   "execution_count": 138,
   "id": "712a3ea6",
   "metadata": {},
   "outputs": [
    {
     "data": {
      "text/html": [
       "<div>\n",
       "<style scoped>\n",
       "    .dataframe tbody tr th:only-of-type {\n",
       "        vertical-align: middle;\n",
       "    }\n",
       "\n",
       "    .dataframe tbody tr th {\n",
       "        vertical-align: top;\n",
       "    }\n",
       "\n",
       "    .dataframe thead th {\n",
       "        text-align: right;\n",
       "    }\n",
       "</style>\n",
       "<table border=\"1\" class=\"dataframe\">\n",
       "  <thead>\n",
       "    <tr style=\"text-align: right;\">\n",
       "      <th></th>\n",
       "      <th>artist_name</th>\n",
       "      <th>total_play_count</th>\n",
       "    </tr>\n",
       "  </thead>\n",
       "  <tbody>\n",
       "    <tr>\n",
       "      <th>0</th>\n",
       "      <td>'A' Loard</td>\n",
       "      <td>1</td>\n",
       "    </tr>\n",
       "    <tr>\n",
       "      <th>1</th>\n",
       "      <td>.3k</td>\n",
       "      <td>1</td>\n",
       "    </tr>\n",
       "    <tr>\n",
       "      <th>2</th>\n",
       "      <td>012</td>\n",
       "      <td>1</td>\n",
       "    </tr>\n",
       "    <tr>\n",
       "      <th>3</th>\n",
       "      <td>1000 Gram</td>\n",
       "      <td>1</td>\n",
       "    </tr>\n",
       "    <tr>\n",
       "      <th>4</th>\n",
       "      <td>12:06</td>\n",
       "      <td>1</td>\n",
       "    </tr>\n",
       "    <tr>\n",
       "      <th>5</th>\n",
       "      <td>1rgum 3urgum</td>\n",
       "      <td>1</td>\n",
       "    </tr>\n",
       "    <tr>\n",
       "      <th>6</th>\n",
       "      <td>206</td>\n",
       "      <td>1</td>\n",
       "    </tr>\n",
       "    <tr>\n",
       "      <th>7</th>\n",
       "      <td>2Boys</td>\n",
       "      <td>1</td>\n",
       "    </tr>\n",
       "    <tr>\n",
       "      <th>8</th>\n",
       "      <td>3D House of Beef</td>\n",
       "      <td>1</td>\n",
       "    </tr>\n",
       "    <tr>\n",
       "      <th>9</th>\n",
       "      <td>3MB feat. Juan Atkins</td>\n",
       "      <td>1</td>\n",
       "    </tr>\n",
       "  </tbody>\n",
       "</table>\n",
       "</div>"
      ],
      "text/plain": [
       "             artist_name  total_play_count\n",
       "0              'A' Loard                 1\n",
       "1                    .3k                 1\n",
       "2                    012                 1\n",
       "3              1000 Gram                 1\n",
       "4                  12:06                 1\n",
       "5           1rgum 3urgum                 1\n",
       "6                    206                 1\n",
       "7                  2Boys                 1\n",
       "8       3D House of Beef                 1\n",
       "9  3MB feat. Juan Atkins                 1"
      ]
     },
     "execution_count": 138,
     "metadata": {},
     "output_type": "execute_result"
    }
   ],
   "source": [
    "# bottom 10 artists with least plays\n",
    "bottom_artists = artist_totalplay.nsmallest(10, 'total_play_count')\n",
    "bottom_artists"
   ]
  },
  {
   "cell_type": "code",
   "execution_count": 179,
   "id": "bd719746",
   "metadata": {},
   "outputs": [
    {
     "data": {
      "image/png": "[encoded data removed]",
      "text/plain": [
       "<Figure size 1440x1080 with 1 Axes>"
      ]
     },
     "metadata": {
      "needs_background": "light"
     },
     "output_type": "display_data"
    }
   ],
   "source": [
    "# get graph of top 30 artists and their total play counts\n",
    "# might have to modify this graph a little to make it more useful?\n",
    "top_artists_df = artist_totalplay.nlargest(30, 'total_play_count')\n",
    "\n",
    "plt.figure(figsize=(20, 15))\n",
    "plt.bar(range(len(top_artists_df['artist_name'])), top_artists_df['total_play_count'], align='center', edgecolor='k', alpha=0.7)\n",
    "\n",
    "plt.yscale('log', nonpositive='clip') \n",
    "\n",
    "plt.xlabel('Artist')\n",
    "plt.ylabel('Total Play Count')\n",
    "plt.title(\"Distribution of Top 30 Artists' Total Play Count\")\n",
    "\n",
    "plt.xticks(range(len(top_artists_df['artist_name'])), top_artists_df['artist_name'], rotation=60)\n",
    "plt.gcf().subplots_adjust(bottom=0.15)\n",
    "\n",
    "plt.show()"
   ]
  },
  {
   "cell_type": "markdown",
   "id": "a93d7fd8",
   "metadata": {},
   "source": [
    "## Bivariate Analysis"
   ]
  },
  {
   "cell_type": "markdown",
   "id": "d5b3126e",
   "metadata": {},
   "source": [
    "note: for bivariate analysis, maybe could look into relation of artist's country of origin and its relation to play count but that requires combining other data"
   ]
  },
  {
   "cell_type": "code",
   "execution_count": null,
   "id": "d25e55c0",
   "metadata": {},
   "outputs": [],
   "source": []
  }
 ],
 "metadata": {
  "kernelspec": {
   "display_name": "Python 3 (ipykernel)",
   "language": "python",
   "name": "python3"
  },
  "language_info": {
   "codemirror_mode": {
    "name": "ipython",
    "version": 3
   },
   "file_extension": ".py",
   "mimetype": "text/x-python",
   "name": "python",
   "nbconvert_exporter": "python",
   "pygments_lexer": "ipython3",
   "version": "3.9.7"
  }
 },
 "nbformat": 4,
 "nbformat_minor": 5
}
