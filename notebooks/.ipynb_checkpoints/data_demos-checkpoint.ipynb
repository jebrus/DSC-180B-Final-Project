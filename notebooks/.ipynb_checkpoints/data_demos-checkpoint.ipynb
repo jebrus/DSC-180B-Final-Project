{
 "cells": [
  {
   "cell_type": "code",
   "execution_count": 1,
   "id": "61007f6e-1b73-44cc-b34c-434058d691bf",
   "metadata": {},
   "outputs": [],
   "source": [
    "import numpy as np\n",
    "import pandas as pd\n",
    "from matplotlib import pyplot as plt"
   ]
  },
  {
   "cell_type": "code",
   "execution_count": 2,
   "id": "d2da07a8-bdfa-4aba-937e-f12be8612f6b",
   "metadata": {},
   "outputs": [
    {
     "data": {
      "text/html": [
       "<div>\n",
       "<style scoped>\n",
       "    .dataframe tbody tr th:only-of-type {\n",
       "        vertical-align: middle;\n",
       "    }\n",
       "\n",
       "    .dataframe tbody tr th {\n",
       "        vertical-align: top;\n",
       "    }\n",
       "\n",
       "    .dataframe thead th {\n",
       "        text-align: right;\n",
       "    }\n",
       "</style>\n",
       "<table border=\"1\" class=\"dataframe\">\n",
       "  <thead>\n",
       "    <tr style=\"text-align: right;\">\n",
       "      <th></th>\n",
       "      <th>user</th>\n",
       "      <th>artist_name</th>\n",
       "      <th>play_count</th>\n",
       "      <th>artist_url</th>\n",
       "    </tr>\n",
       "  </thead>\n",
       "  <tbody>\n",
       "    <tr>\n",
       "      <th>0</th>\n",
       "      <td>nyancrimew</td>\n",
       "      <td>Jasmine Thompson</td>\n",
       "      <td>7559</td>\n",
       "      <td>https://www.last.fm/music/Jasmine+Thompson</td>\n",
       "    </tr>\n",
       "    <tr>\n",
       "      <th>1</th>\n",
       "      <td>nyancrimew</td>\n",
       "      <td>Eminem</td>\n",
       "      <td>5851</td>\n",
       "      <td>https://www.last.fm/music/Eminem</td>\n",
       "    </tr>\n",
       "    <tr>\n",
       "      <th>2</th>\n",
       "      <td>nyancrimew</td>\n",
       "      <td>Watsky</td>\n",
       "      <td>3044</td>\n",
       "      <td>https://www.last.fm/music/Watsky</td>\n",
       "    </tr>\n",
       "    <tr>\n",
       "      <th>3</th>\n",
       "      <td>nyancrimew</td>\n",
       "      <td>Linkin Park</td>\n",
       "      <td>2938</td>\n",
       "      <td>https://www.last.fm/music/Linkin+Park</td>\n",
       "    </tr>\n",
       "    <tr>\n",
       "      <th>4</th>\n",
       "      <td>nyancrimew</td>\n",
       "      <td>Cavetown</td>\n",
       "      <td>2857</td>\n",
       "      <td>https://www.last.fm/music/Cavetown</td>\n",
       "    </tr>\n",
       "    <tr>\n",
       "      <th>...</th>\n",
       "      <td>...</td>\n",
       "      <td>...</td>\n",
       "      <td>...</td>\n",
       "      <td>...</td>\n",
       "    </tr>\n",
       "    <tr>\n",
       "      <th>9453845</th>\n",
       "      <td>ankurp</td>\n",
       "      <td>Placebo</td>\n",
       "      <td>377</td>\n",
       "      <td>https://www.last.fm/music/Placebo</td>\n",
       "    </tr>\n",
       "    <tr>\n",
       "      <th>9453846</th>\n",
       "      <td>ankurp</td>\n",
       "      <td>blink-182</td>\n",
       "      <td>373</td>\n",
       "      <td>https://www.last.fm/music/blink-182</td>\n",
       "    </tr>\n",
       "    <tr>\n",
       "      <th>9453847</th>\n",
       "      <td>ankurp</td>\n",
       "      <td>Sprung Monkey</td>\n",
       "      <td>371</td>\n",
       "      <td>https://www.last.fm/music/Sprung+Monkey</td>\n",
       "    </tr>\n",
       "    <tr>\n",
       "      <th>9453848</th>\n",
       "      <td>ankurp</td>\n",
       "      <td>Kings of Leon</td>\n",
       "      <td>366</td>\n",
       "      <td>https://www.last.fm/music/Kings+of+Leon</td>\n",
       "    </tr>\n",
       "    <tr>\n",
       "      <th>9453849</th>\n",
       "      <td>ankurp</td>\n",
       "      <td>Motor Ace</td>\n",
       "      <td>358</td>\n",
       "      <td>https://www.last.fm/music/Motor+Ace</td>\n",
       "    </tr>\n",
       "  </tbody>\n",
       "</table>\n",
       "<p>9453850 rows × 4 columns</p>\n",
       "</div>"
      ],
      "text/plain": [
       "               user       artist_name  play_count  \\\n",
       "0        nyancrimew  Jasmine Thompson        7559   \n",
       "1        nyancrimew            Eminem        5851   \n",
       "2        nyancrimew            Watsky        3044   \n",
       "3        nyancrimew       Linkin Park        2938   \n",
       "4        nyancrimew          Cavetown        2857   \n",
       "...             ...               ...         ...   \n",
       "9453845      ankurp           Placebo         377   \n",
       "9453846      ankurp         blink-182         373   \n",
       "9453847      ankurp     Sprung Monkey         371   \n",
       "9453848      ankurp     Kings of Leon         366   \n",
       "9453849      ankurp         Motor Ace         358   \n",
       "\n",
       "                                         artist_url  \n",
       "0        https://www.last.fm/music/Jasmine+Thompson  \n",
       "1                  https://www.last.fm/music/Eminem  \n",
       "2                  https://www.last.fm/music/Watsky  \n",
       "3             https://www.last.fm/music/Linkin+Park  \n",
       "4                https://www.last.fm/music/Cavetown  \n",
       "...                                             ...  \n",
       "9453845           https://www.last.fm/music/Placebo  \n",
       "9453846         https://www.last.fm/music/blink-182  \n",
       "9453847     https://www.last.fm/music/Sprung+Monkey  \n",
       "9453848     https://www.last.fm/music/Kings+of+Leon  \n",
       "9453849         https://www.last.fm/music/Motor+Ace  \n",
       "\n",
       "[9453850 rows x 4 columns]"
      ]
     },
     "execution_count": 2,
     "metadata": {},
     "output_type": "execute_result"
    }
   ],
   "source": [
    "# User data\n",
    "user_df = pd.read_csv('../data/user-df-1-22-2024.csv')\n",
    "user_df = user_df[user_df.columns[1:]]\n",
    "user_df"
   ]
  },
  {
   "cell_type": "markdown",
   "id": "67176253-0e2d-480e-8581-3631f42eb709",
   "metadata": {},
   "source": [
    "Column explanations:\n",
    "- user: Username of the user with the specified top artists\n",
    "- artist_name: Name of an artist within a user's top artists\n",
    "- play_count: Amount of plays that the user has on this artist\n",
    "- artist_url: Link to artist's page on last.fm"
   ]
  },
  {
   "cell_type": "code",
   "execution_count": 3,
   "id": "b8a720f0-3548-4a9c-bf23-700367626bcf",
   "metadata": {},
   "outputs": [
    {
     "data": {
      "image/png": "[encoded data removed]",
      "text/plain": [
       "<Figure size 640x480 with 1 Axes>"
      ]
     },
     "metadata": {},
     "output_type": "display_data"
    },
    {
     "data": {
      "text/plain": [
       "count    194014.000000\n",
       "mean         48.727669\n",
       "std           6.731404\n",
       "min           1.000000\n",
       "25%          50.000000\n",
       "50%          50.000000\n",
       "75%          50.000000\n",
       "max          50.000000\n",
       "Name: play_count, dtype: float64"
      ]
     },
     "metadata": {},
     "output_type": "display_data"
    }
   ],
   "source": [
    "# Plot of how many top artists each user has\n",
    "num_artists_per_user = user_df.groupby('user').count().groupby('artist_name').count()\n",
    "x = num_artists_per_user.index\n",
    "y = num_artists_per_user['play_count']\n",
    "plt.bar(x, y, log=True)\n",
    "plt.show()\n",
    "display(user_df.groupby('user').count()['play_count'].describe())"
   ]
  },
  {
   "cell_type": "markdown",
   "id": "50eff445-010e-408d-8eb1-b607b837c43b",
   "metadata": {},
   "source": [
    "Takeaway: The vast majority of users have a full 50 top artists, so pruning the users with lower amounts shouldn't affect predictions much. This matters because users with low artist counts will bias our output; if someone's only listened to Drake and Future, predictions based on one of those artists will be heavily skewed towards the other, when in reality the reason they only have Drake and Future logged is poor sample size; it is far more likely that the user barely used last.fm rather than the sum total of their listening habits being relegated only to Drake and Future."
   ]
  },
  {
   "cell_type": "code",
   "execution_count": 4,
   "id": "ad92255a-07a2-4734-8e68-4e1822f8c42b",
   "metadata": {},
   "outputs": [
    {
     "data": {
      "image/png": "[encoded data removed]",
      "text/plain": [
       "<Figure size 640x480 with 1 Axes>"
      ]
     },
     "metadata": {},
     "output_type": "display_data"
    },
    {
     "data": {
      "text/plain": [
       "count    1.940140e+05\n",
       "mean     2.795764e+04\n",
       "std      4.760111e+04\n",
       "min      1.000000e+00\n",
       "25%      4.321000e+03\n",
       "50%      1.467000e+04\n",
       "75%      3.490875e+04\n",
       "max      4.005313e+06\n",
       "Name: play_count, dtype: float64"
      ]
     },
     "metadata": {},
     "output_type": "display_data"
    }
   ],
   "source": [
    "num_plays_per_user = user_df.groupby('user')['play_count'].sum()\n",
    "points_to_plot = sorted(num_plays_per_user.sample(10000))\n",
    "plt.plot(points_to_plot)\n",
    "plt.show()\n",
    "display(num_plays_per_user.describe())"
   ]
  },
  {
   "cell_type": "markdown",
   "id": "fba43f06-7c28-4392-9355-03092d48fd1d",
   "metadata": {},
   "source": [
    "Takeaway: Most users don't actually have all that many plays of artists overall (most having somewhere within the thousands or tens of thousands), but rather a few superusers have a ton of plays. When considering ideas such as weighting recommendation strength by play count or filtering out users with low play counts, we must take this knowledge into account."
   ]
  }
 ],
 "metadata": {
  "kernelspec": {
   "display_name": "Python 3 (ipykernel)",
   "language": "python",
   "name": "python3"
  },
  "language_info": {
   "codemirror_mode": {
    "name": "ipython",
    "version": 3
   },
   "file_extension": ".py",
   "mimetype": "text/x-python",
   "name": "python",
   "nbconvert_exporter": "python",
   "pygments_lexer": "ipython3",
   "version": "3.10.11"
  }
 },
 "nbformat": 4,
 "nbformat_minor": 5
}
