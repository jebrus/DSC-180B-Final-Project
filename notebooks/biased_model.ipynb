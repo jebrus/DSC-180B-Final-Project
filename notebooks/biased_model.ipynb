{
 "cells": [
  {
   "cell_type": "code",
   "execution_count": 1,
   "id": "29ca635d-1620-4556-a1ca-9a8e02022ab1",
   "metadata": {},
   "outputs": [],
   "source": [
    "import numpy as np\n",
    "import pandas as pd\n",
    "from matplotlib import pyplot as plt"
   ]
  },
  {
   "cell_type": "code",
   "execution_count": 2,
   "id": "7d554dae-49bd-483b-8828-5de33edabff3",
   "metadata": {},
   "outputs": [
    {
     "data": {
      "text/html": [
       "<div>\n",
       "<style scoped>\n",
       "    .dataframe tbody tr th:only-of-type {\n",
       "        vertical-align: middle;\n",
       "    }\n",
       "\n",
       "    .dataframe tbody tr th {\n",
       "        vertical-align: top;\n",
       "    }\n",
       "\n",
       "    .dataframe thead th {\n",
       "        text-align: right;\n",
       "    }\n",
       "</style>\n",
       "<table border=\"1\" class=\"dataframe\">\n",
       "  <thead>\n",
       "    <tr style=\"text-align: right;\">\n",
       "      <th></th>\n",
       "      <th>user</th>\n",
       "      <th>artist_name</th>\n",
       "      <th>play_count</th>\n",
       "      <th>artist_url</th>\n",
       "    </tr>\n",
       "  </thead>\n",
       "  <tbody>\n",
       "    <tr>\n",
       "      <th>0</th>\n",
       "      <td>nyancrimew</td>\n",
       "      <td>Jasmine Thompson</td>\n",
       "      <td>7559</td>\n",
       "      <td>https://www.last.fm/music/Jasmine+Thompson</td>\n",
       "    </tr>\n",
       "    <tr>\n",
       "      <th>1</th>\n",
       "      <td>nyancrimew</td>\n",
       "      <td>Eminem</td>\n",
       "      <td>5851</td>\n",
       "      <td>https://www.last.fm/music/Eminem</td>\n",
       "    </tr>\n",
       "    <tr>\n",
       "      <th>2</th>\n",
       "      <td>nyancrimew</td>\n",
       "      <td>Watsky</td>\n",
       "      <td>3044</td>\n",
       "      <td>https://www.last.fm/music/Watsky</td>\n",
       "    </tr>\n",
       "    <tr>\n",
       "      <th>3</th>\n",
       "      <td>nyancrimew</td>\n",
       "      <td>Linkin Park</td>\n",
       "      <td>2938</td>\n",
       "      <td>https://www.last.fm/music/Linkin+Park</td>\n",
       "    </tr>\n",
       "    <tr>\n",
       "      <th>4</th>\n",
       "      <td>nyancrimew</td>\n",
       "      <td>Cavetown</td>\n",
       "      <td>2857</td>\n",
       "      <td>https://www.last.fm/music/Cavetown</td>\n",
       "    </tr>\n",
       "    <tr>\n",
       "      <th>...</th>\n",
       "      <td>...</td>\n",
       "      <td>...</td>\n",
       "      <td>...</td>\n",
       "      <td>...</td>\n",
       "    </tr>\n",
       "    <tr>\n",
       "      <th>9453845</th>\n",
       "      <td>ankurp</td>\n",
       "      <td>Placebo</td>\n",
       "      <td>377</td>\n",
       "      <td>https://www.last.fm/music/Placebo</td>\n",
       "    </tr>\n",
       "    <tr>\n",
       "      <th>9453846</th>\n",
       "      <td>ankurp</td>\n",
       "      <td>blink-182</td>\n",
       "      <td>373</td>\n",
       "      <td>https://www.last.fm/music/blink-182</td>\n",
       "    </tr>\n",
       "    <tr>\n",
       "      <th>9453847</th>\n",
       "      <td>ankurp</td>\n",
       "      <td>Sprung Monkey</td>\n",
       "      <td>371</td>\n",
       "      <td>https://www.last.fm/music/Sprung+Monkey</td>\n",
       "    </tr>\n",
       "    <tr>\n",
       "      <th>9453848</th>\n",
       "      <td>ankurp</td>\n",
       "      <td>Kings of Leon</td>\n",
       "      <td>366</td>\n",
       "      <td>https://www.last.fm/music/Kings+of+Leon</td>\n",
       "    </tr>\n",
       "    <tr>\n",
       "      <th>9453849</th>\n",
       "      <td>ankurp</td>\n",
       "      <td>Motor Ace</td>\n",
       "      <td>358</td>\n",
       "      <td>https://www.last.fm/music/Motor+Ace</td>\n",
       "    </tr>\n",
       "  </tbody>\n",
       "</table>\n",
       "<p>9453850 rows × 4 columns</p>\n",
       "</div>"
      ],
      "text/plain": [
       "               user       artist_name  play_count  \\\n",
       "0        nyancrimew  Jasmine Thompson        7559   \n",
       "1        nyancrimew            Eminem        5851   \n",
       "2        nyancrimew            Watsky        3044   \n",
       "3        nyancrimew       Linkin Park        2938   \n",
       "4        nyancrimew          Cavetown        2857   \n",
       "...             ...               ...         ...   \n",
       "9453845      ankurp           Placebo         377   \n",
       "9453846      ankurp         blink-182         373   \n",
       "9453847      ankurp     Sprung Monkey         371   \n",
       "9453848      ankurp     Kings of Leon         366   \n",
       "9453849      ankurp         Motor Ace         358   \n",
       "\n",
       "                                         artist_url  \n",
       "0        https://www.last.fm/music/Jasmine+Thompson  \n",
       "1                  https://www.last.fm/music/Eminem  \n",
       "2                  https://www.last.fm/music/Watsky  \n",
       "3             https://www.last.fm/music/Linkin+Park  \n",
       "4                https://www.last.fm/music/Cavetown  \n",
       "...                                             ...  \n",
       "9453845           https://www.last.fm/music/Placebo  \n",
       "9453846         https://www.last.fm/music/blink-182  \n",
       "9453847     https://www.last.fm/music/Sprung+Monkey  \n",
       "9453848     https://www.last.fm/music/Kings+of+Leon  \n",
       "9453849         https://www.last.fm/music/Motor+Ace  \n",
       "\n",
       "[9453850 rows x 4 columns]"
      ]
     },
     "execution_count": 2,
     "metadata": {},
     "output_type": "execute_result"
    }
   ],
   "source": [
    "# User data\n",
    "user_df = pd.read_csv('../data/user-df-1-22-2024.csv')\n",
    "user_df = user_df[user_df.columns[1:]]\n",
    "user_df"
   ]
  },
  {
   "cell_type": "code",
   "execution_count": 3,
   "id": "d8011261-8876-4e5d-b788-4514db5f9608",
   "metadata": {},
   "outputs": [
    {
     "data": {
      "image/png": "[encoded data removed]",
      "text/plain": [
       "<Figure size 640x480 with 1 Axes>"
      ]
     },
     "metadata": {},
     "output_type": "display_data"
    },
    {
     "data": {
      "text/plain": [
       "count    194014.000000\n",
       "mean         48.727669\n",
       "std           6.731404\n",
       "min           1.000000\n",
       "25%          50.000000\n",
       "50%          50.000000\n",
       "75%          50.000000\n",
       "max          50.000000\n",
       "Name: play_count, dtype: float64"
      ]
     },
     "metadata": {},
     "output_type": "display_data"
    }
   ],
   "source": [
    "# Plot of how many top artists each user has\n",
    "num_artists_per_user = user_df.groupby('user').count().groupby('artist_name').count()\n",
    "x = num_artists_per_user.index\n",
    "y = num_artists_per_user['play_count']\n",
    "plt.bar(x, y, log=True)\n",
    "plt.show()\n",
    "display(user_df.groupby('user').count()['play_count'].describe())"
   ]
  },
  {
   "cell_type": "markdown",
   "id": "79cad4e7-066d-4215-a2a2-3e5266b86349",
   "metadata": {},
   "source": [
    "Takeaway: The vast majority of users have a full 50 top artists, so pruning the users with lower amounts shouldn't affect predictions much. This matters because users with low artist counts will bias our output; if someone's only listened to Drake and Future, predictions based on one of those artists will be heavily skewed towards the other, when in reality the reason they only have Drake and Future logged is poor sample size; it is far more likely that the user barely used last.fm rather than the sum total of their listening habits being relegated only to Drake and Future. However, this raises a question: by pruning users, how many artists do we become unable to recommend because they're out of our database?\n",
    "\n",
    "To answer this, we will first assign a number to each user corresponding to the amount of top artists they have. Then, from there, we will see which artists are present within just the users with a full 50. Then we will see which artists are present among those with 49 top artists that aren't present within those who have a full 50, then repeating for those with 48 top artists, and so on and so forth."
   ]
  },
  {
   "cell_type": "code",
   "execution_count": 79,
   "id": "5c2dd2f0-e222-4881-bca8-ff0a52615c10",
   "metadata": {},
   "outputs": [],
   "source": [
    "# How many top artists each user has\n",
    "user_acs = user_df.groupby('user').count().reset_index()[['user', 'play_count']].rename(columns={'play_count': 'top_artist_count'}).set_index('user')\n",
    "# user_df but with number of top artists as a column\n",
    "user_df_with_acs = user_df.join(user_acs, on='user')\n",
    "# Unique artists within each block of users with a specified number of top artists\n",
    "artists_by_user_ac = user_df_with_acs.groupby('top_artist_count')['artist_name'].agg(lambda x: set(x))\n",
    "\n",
    "# Filter artists_by_user_ac so the 49 top artists block doesn't include artists within the 50 top artists block, \n",
    "# the 48 top artists block doesn't include any from 49 or 50, etc.\n",
    "seen_artists = set()\n",
    "for i in range(50, 0, -1):\n",
    "    artists_by_user_ac[i] -= seen_artists\n",
    "    seen_artists = seen_artists.union(artists_by_user_ac[i])"
   ]
  },
  {
   "cell_type": "code",
   "execution_count": 80,
   "id": "ba59100b-0156-4f69-9311-0be1a5ddb586",
   "metadata": {},
   "outputs": [
    {
     "data": {
      "text/plain": [
       "<BarContainer object of 50 artists>"
      ]
     },
     "execution_count": 80,
     "metadata": {},
     "output_type": "execute_result"
    },
    {
     "data": {
      "image/png": "[encoded data removed]",
      "text/plain": [
       "<Figure size 640x480 with 1 Axes>"
      ]
     },
     "metadata": {},
     "output_type": "display_data"
    }
   ],
   "source": [
    "plt.bar(artists_by_user_ac.index, artists_by_user_ac.map(len), log=True)"
   ]
  },
  {
   "cell_type": "markdown",
   "id": "e797c4d0-7803-498f-93a0-e37a6f8fc8ed",
   "metadata": {},
   "source": [
    "Now we will plot the number of artists we will lose from our database when we filter out users with below n top artists."
   ]
  },
  {
   "cell_type": "code",
   "execution_count": 83,
   "id": "8096c75b-6001-47f3-9c44-9898660fa2a5",
   "metadata": {},
   "outputs": [],
   "source": [
    "artist_count_lost_per_cutoff = [0]\n",
    "for i in range(1, 51):\n",
    "    artist_count_lost_per_cutoff.append(artist_count_lost_per_cutoff[i-1] + len(artists_by_user_ac[i]))"
   ]
  },
  {
   "cell_type": "code",
   "execution_count": 88,
   "id": "57ea01d6-4e5f-4716-a854-c62a992239a8",
   "metadata": {},
   "outputs": [
    {
     "data": {
      "text/plain": [
       "<BarContainer object of 49 artists>"
      ]
     },
     "execution_count": 88,
     "metadata": {},
     "output_type": "execute_result"
    },
    {
     "data": {
      "image/png": "[encoded data removed]",
      "text/plain": [
       "<Figure size 640x480 with 1 Axes>"
      ]
     },
     "metadata": {},
     "output_type": "display_data"
    }
   ],
   "source": [
    "plt.bar(list(range(1, 50)), artist_count_lost_per_cutoff[1:50])"
   ]
  },
  {
   "cell_type": "code",
   "execution_count": 26,
   "id": "44b046da-c38d-4824-a735-c753379571b9",
   "metadata": {},
   "outputs": [
    {
     "data": {
      "text/plain": [
       "artist_name\n",
       "1        696\n",
       "2        375\n",
       "3        310\n",
       "4        230\n",
       "5        216\n",
       "6        201\n",
       "7        192\n",
       "8        191\n",
       "9        175\n",
       "10       167\n",
       "11       195\n",
       "12       191\n",
       "13       176\n",
       "14       169\n",
       "15       162\n",
       "16       168\n",
       "17       194\n",
       "18       150\n",
       "19       148\n",
       "20       156\n",
       "21       166\n",
       "22       178\n",
       "23       163\n",
       "24       129\n",
       "25       154\n",
       "26       146\n",
       "27       142\n",
       "28       134\n",
       "29       131\n",
       "30       123\n",
       "31       145\n",
       "32       137\n",
       "33       140\n",
       "34       147\n",
       "35       136\n",
       "36       133\n",
       "37       127\n",
       "38       117\n",
       "39       125\n",
       "40       130\n",
       "41       122\n",
       "42       130\n",
       "43       122\n",
       "44       131\n",
       "45       132\n",
       "46       119\n",
       "47       127\n",
       "48       131\n",
       "49       119\n",
       "50    185616\n",
       "Name: user, dtype: int64"
      ]
     },
     "execution_count": 26,
     "metadata": {},
     "output_type": "execute_result"
    }
   ],
   "source": [
    "# artists_by_user_ac.map(len)"
   ]
  },
  {
   "cell_type": "code",
   "execution_count": null,
   "id": "e50b0087-b473-42b0-b6da-4a714d9d2771",
   "metadata": {},
   "outputs": [],
   "source": []
  }
 ],
 "metadata": {
  "kernelspec": {
   "display_name": "Python 3 (ipykernel)",
   "language": "python",
   "name": "python3"
  },
  "language_info": {
   "codemirror_mode": {
    "name": "ipython",
    "version": 3
   },
   "file_extension": ".py",
   "mimetype": "text/x-python",
   "name": "python",
   "nbconvert_exporter": "python",
   "pygments_lexer": "ipython3",
   "version": "3.10.11"
  }
 },
 "nbformat": 4,
 "nbformat_minor": 5
}
