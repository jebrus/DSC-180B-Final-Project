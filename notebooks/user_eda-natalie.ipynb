{
 "cells": [
  {
   "cell_type": "markdown",
   "id": "d5f3d100",
   "metadata": {},
   "source": [
    "# Last.fm User Exploratory Data Analysis"
   ]
  },
  {
   "cell_type": "markdown",
   "id": "658f19df",
   "metadata": {},
   "source": [
    "note: explore bivariate analysis between artist's play count and their location but that requires combining location data, maybe look into outliers?, include more interpretations and comment more later to make it more professional"
   ]
  },
  {
   "cell_type": "markdown",
   "id": "794d1357",
   "metadata": {},
   "source": [
    "## Setup and Load Dataset"
   ]
  },
  {
   "cell_type": "code",
   "execution_count": 1,
   "id": "49cb1960",
   "metadata": {},
   "outputs": [],
   "source": [
    "import pandas as pd\n",
    "import matplotlib.pyplot as plt\n",
    "import matplotlib.ticker as ticker"
   ]
  },
  {
   "cell_type": "code",
   "execution_count": 2,
   "id": "272b8169",
   "metadata": {},
   "outputs": [],
   "source": [
    "# read in user data\n",
    "file_path = r'C:\\Users\\radia\\Documents\\4th year\\w_23\\dsc180b_w23\\filtered_user_df.csv'\n",
    "user_df = pd.read_csv(file_path)"
   ]
  },
  {
   "cell_type": "code",
   "execution_count": 3,
   "id": "e1b19b41",
   "metadata": {},
   "outputs": [],
   "source": [
    "# drop unnecessary columns\n",
    "user_df.drop(columns=['Unnamed: 0', 'Unnamed: 0.1'], inplace=True)"
   ]
  },
  {
   "cell_type": "code",
   "execution_count": 4,
   "id": "37786640",
   "metadata": {},
   "outputs": [
    {
     "data": {
      "text/html": [
       "<div>\n",
       "<style scoped>\n",
       "    .dataframe tbody tr th:only-of-type {\n",
       "        vertical-align: middle;\n",
       "    }\n",
       "\n",
       "    .dataframe tbody tr th {\n",
       "        vertical-align: top;\n",
       "    }\n",
       "\n",
       "    .dataframe thead th {\n",
       "        text-align: right;\n",
       "    }\n",
       "</style>\n",
       "<table border=\"1\" class=\"dataframe\">\n",
       "  <thead>\n",
       "    <tr style=\"text-align: right;\">\n",
       "      <th></th>\n",
       "      <th>user</th>\n",
       "      <th>artist_name</th>\n",
       "      <th>play_count</th>\n",
       "      <th>artist_url</th>\n",
       "    </tr>\n",
       "  </thead>\n",
       "  <tbody>\n",
       "    <tr>\n",
       "      <th>0</th>\n",
       "      <td>nyancrimew</td>\n",
       "      <td>Jasmine Thompson</td>\n",
       "      <td>7559</td>\n",
       "      <td>https://www.last.fm/music/Jasmine+Thompson</td>\n",
       "    </tr>\n",
       "    <tr>\n",
       "      <th>1</th>\n",
       "      <td>nyancrimew</td>\n",
       "      <td>Eminem</td>\n",
       "      <td>5851</td>\n",
       "      <td>https://www.last.fm/music/Eminem</td>\n",
       "    </tr>\n",
       "    <tr>\n",
       "      <th>2</th>\n",
       "      <td>nyancrimew</td>\n",
       "      <td>Watsky</td>\n",
       "      <td>3044</td>\n",
       "      <td>https://www.last.fm/music/Watsky</td>\n",
       "    </tr>\n",
       "    <tr>\n",
       "      <th>3</th>\n",
       "      <td>nyancrimew</td>\n",
       "      <td>Linkin Park</td>\n",
       "      <td>2938</td>\n",
       "      <td>https://www.last.fm/music/Linkin+Park</td>\n",
       "    </tr>\n",
       "    <tr>\n",
       "      <th>4</th>\n",
       "      <td>nyancrimew</td>\n",
       "      <td>twenty one pilots</td>\n",
       "      <td>1849</td>\n",
       "      <td>https://www.last.fm/music/twenty+one+pilots</td>\n",
       "    </tr>\n",
       "  </tbody>\n",
       "</table>\n",
       "</div>"
      ],
      "text/plain": [
       "         user        artist_name  play_count  \\\n",
       "0  nyancrimew   Jasmine Thompson        7559   \n",
       "1  nyancrimew             Eminem        5851   \n",
       "2  nyancrimew             Watsky        3044   \n",
       "3  nyancrimew        Linkin Park        2938   \n",
       "4  nyancrimew  twenty one pilots        1849   \n",
       "\n",
       "                                    artist_url  \n",
       "0   https://www.last.fm/music/Jasmine+Thompson  \n",
       "1             https://www.last.fm/music/Eminem  \n",
       "2             https://www.last.fm/music/Watsky  \n",
       "3        https://www.last.fm/music/Linkin+Park  \n",
       "4  https://www.last.fm/music/twenty+one+pilots  "
      ]
     },
     "execution_count": 4,
     "metadata": {},
     "output_type": "execute_result"
    }
   ],
   "source": [
    "# display data\n",
    "user_df.head()"
   ]
  },
  {
   "cell_type": "code",
   "execution_count": 5,
   "id": "e8cbce27",
   "metadata": {},
   "outputs": [
    {
     "name": "stdout",
     "output_type": "stream",
     "text": [
      "DataFrame Shape:\n",
      "(7682455, 4)\n",
      "\n",
      "DataFrame Column Types:\n",
      "user           object\n",
      "artist_name    object\n",
      "play_count      int64\n",
      "artist_url     object\n",
      "dtype: object\n",
      "\n",
      "Number of Missing Values:\n",
      "user           0\n",
      "artist_name    0\n",
      "play_count     0\n",
      "artist_url     0\n",
      "dtype: int64\n"
     ]
    }
   ],
   "source": [
    "# basic understanding of dataset\n",
    "print(f'DataFrame Shape:\\n{user_df.shape}\\n')\n",
    "\n",
    "print(f'DataFrame Column Types:\\n{user_df.dtypes}\\n')\n",
    "\n",
    "print(f'Number of Missing Values:\\n{user_df.isna().sum()}')"
   ]
  },
  {
   "cell_type": "markdown",
   "id": "0d512f3d",
   "metadata": {},
   "source": [
    "## Numerical Analysis"
   ]
  },
  {
   "cell_type": "markdown",
   "id": "dddcd797",
   "metadata": {},
   "source": [
    "### Play Count"
   ]
  },
  {
   "cell_type": "code",
   "execution_count": 6,
   "id": "8f8d299d",
   "metadata": {},
   "outputs": [
    {
     "data": {
      "text/plain": [
       "count    7.682455e+06\n",
       "mean     5.763435e+02\n",
       "std      2.436419e+03\n",
       "min      1.000000e+00\n",
       "25%      6.800000e+01\n",
       "50%      2.290000e+02\n",
       "75%      5.880000e+02\n",
       "max      2.352717e+06\n",
       "Name: play_count, dtype: float64"
      ]
     },
     "execution_count": 6,
     "metadata": {},
     "output_type": "execute_result"
    }
   ],
   "source": [
    "# get summary statistics of play count\n",
    "user_df['play_count'].describe()"
   ]
  },
  {
   "cell_type": "code",
   "execution_count": 7,
   "id": "faefc9fe",
   "metadata": {},
   "outputs": [
    {
     "data": {
      "image/png": "[encoded data removed]",
      "text/plain": [
       "<Figure size 720x432 with 1 Axes>"
      ]
     },
     "metadata": {
      "needs_background": "light"
     },
     "output_type": "display_data"
    }
   ],
   "source": [
    "# plot distribution of play count\n",
    "plt.figure(figsize=(10, 6))\n",
    "plt.hist(user_df['play_count'], bins=100, edgecolor='k', alpha=0.7)\n",
    "\n",
    "plt.yscale('log', nonpositive='clip') \n",
    "\n",
    "plt.title('Distribution of Play Count')\n",
    "plt.xlabel('Play Count')\n",
    "plt.ylabel('Frequency (Log Scale)')\n",
    "\n",
    "# setting the x-axis to display whole numbers using a custom formatter\n",
    "ax = plt.gca()\n",
    "ax.xaxis.set_major_formatter(ticker.StrMethodFormatter('{x:,.0f}'))\n",
    "\n",
    "plt.show()"
   ]
  },
  {
   "cell_type": "markdown",
   "id": "3b12a005",
   "metadata": {},
   "source": [
    "# Categorical Analysis"
   ]
  },
  {
   "cell_type": "markdown",
   "id": "efbc94c3",
   "metadata": {},
   "source": [
    "### User"
   ]
  },
  {
   "cell_type": "code",
   "execution_count": 8,
   "id": "a47586e5",
   "metadata": {},
   "outputs": [
    {
     "name": "stdout",
     "output_type": "stream",
     "text": [
      "Number of Unique Users:\n",
      "193707\n"
     ]
    }
   ],
   "source": [
    "# get number of unique \n",
    "print(f'Number of Unique Users:\\n{user_df[\"user\"].nunique()}')"
   ]
  },
  {
   "cell_type": "code",
   "execution_count": 9,
   "id": "dab28011",
   "metadata": {},
   "outputs": [],
   "source": [
    "# dataframe of users by total play count to analyze usage\n",
    "user_totalplay = user_df.groupby('user')['play_count'].sum().reset_index(name='total_play_count')"
   ]
  },
  {
   "cell_type": "code",
   "execution_count": 10,
   "id": "fdfe6316",
   "metadata": {},
   "outputs": [
    {
     "data": {
      "text/html": [
       "<div>\n",
       "<style scoped>\n",
       "    .dataframe tbody tr th:only-of-type {\n",
       "        vertical-align: middle;\n",
       "    }\n",
       "\n",
       "    .dataframe tbody tr th {\n",
       "        vertical-align: top;\n",
       "    }\n",
       "\n",
       "    .dataframe thead th {\n",
       "        text-align: right;\n",
       "    }\n",
       "</style>\n",
       "<table border=\"1\" class=\"dataframe\">\n",
       "  <thead>\n",
       "    <tr style=\"text-align: right;\">\n",
       "      <th></th>\n",
       "      <th>user</th>\n",
       "      <th>total_play_count</th>\n",
       "    </tr>\n",
       "  </thead>\n",
       "  <tbody>\n",
       "    <tr>\n",
       "      <th>170305</th>\n",
       "      <td>shodate76</td>\n",
       "      <td>3714448</td>\n",
       "    </tr>\n",
       "    <tr>\n",
       "      <th>72935</th>\n",
       "      <td>Zandhr</td>\n",
       "      <td>2125259</td>\n",
       "    </tr>\n",
       "    <tr>\n",
       "      <th>116877</th>\n",
       "      <td>higorrz</td>\n",
       "      <td>2109043</td>\n",
       "    </tr>\n",
       "    <tr>\n",
       "      <th>850</th>\n",
       "      <td>AGGAV</td>\n",
       "      <td>1741957</td>\n",
       "    </tr>\n",
       "    <tr>\n",
       "      <th>91611</th>\n",
       "      <td>chemkelly</td>\n",
       "      <td>1627015</td>\n",
       "    </tr>\n",
       "    <tr>\n",
       "      <th>94853</th>\n",
       "      <td>crs16520</td>\n",
       "      <td>1618729</td>\n",
       "    </tr>\n",
       "    <tr>\n",
       "      <th>146505</th>\n",
       "      <td>monarcaladeus</td>\n",
       "      <td>1529169</td>\n",
       "    </tr>\n",
       "    <tr>\n",
       "      <th>90823</th>\n",
       "      <td>celestuls</td>\n",
       "      <td>1333451</td>\n",
       "    </tr>\n",
       "    <tr>\n",
       "      <th>158650</th>\n",
       "      <td>pixzen</td>\n",
       "      <td>1217551</td>\n",
       "    </tr>\n",
       "    <tr>\n",
       "      <th>45620</th>\n",
       "      <td>Morris_Albert_</td>\n",
       "      <td>1198810</td>\n",
       "    </tr>\n",
       "  </tbody>\n",
       "</table>\n",
       "</div>"
      ],
      "text/plain": [
       "                  user  total_play_count\n",
       "170305       shodate76           3714448\n",
       "72935           Zandhr           2125259\n",
       "116877         higorrz           2109043\n",
       "850              AGGAV           1741957\n",
       "91611        chemkelly           1627015\n",
       "94853         crs16520           1618729\n",
       "146505   monarcaladeus           1529169\n",
       "90823        celestuls           1333451\n",
       "158650          pixzen           1217551\n",
       "45620   Morris_Albert_           1198810"
      ]
     },
     "execution_count": 10,
     "metadata": {},
     "output_type": "execute_result"
    }
   ],
   "source": [
    "# top 10 users\n",
    "user_totalplay.nlargest(10, 'total_play_count')"
   ]
  },
  {
   "cell_type": "code",
   "execution_count": 11,
   "id": "8c482f6e",
   "metadata": {},
   "outputs": [
    {
     "data": {
      "text/html": [
       "<div>\n",
       "<style scoped>\n",
       "    .dataframe tbody tr th:only-of-type {\n",
       "        vertical-align: middle;\n",
       "    }\n",
       "\n",
       "    .dataframe tbody tr th {\n",
       "        vertical-align: top;\n",
       "    }\n",
       "\n",
       "    .dataframe thead th {\n",
       "        text-align: right;\n",
       "    }\n",
       "</style>\n",
       "<table border=\"1\" class=\"dataframe\">\n",
       "  <thead>\n",
       "    <tr style=\"text-align: right;\">\n",
       "      <th></th>\n",
       "      <th>user</th>\n",
       "      <th>total_play_count</th>\n",
       "    </tr>\n",
       "  </thead>\n",
       "  <tbody>\n",
       "    <tr>\n",
       "      <th>236</th>\n",
       "      <td>09-D</td>\n",
       "      <td>1</td>\n",
       "    </tr>\n",
       "    <tr>\n",
       "      <th>294</th>\n",
       "      <td>12k</td>\n",
       "      <td>1</td>\n",
       "    </tr>\n",
       "    <tr>\n",
       "      <th>647</th>\n",
       "      <td>70x</td>\n",
       "      <td>1</td>\n",
       "    </tr>\n",
       "    <tr>\n",
       "      <th>653</th>\n",
       "      <td>77klash</td>\n",
       "      <td>1</td>\n",
       "    </tr>\n",
       "    <tr>\n",
       "      <th>1461</th>\n",
       "      <td>AdamKritz7861</td>\n",
       "      <td>1</td>\n",
       "    </tr>\n",
       "    <tr>\n",
       "      <th>1473</th>\n",
       "      <td>AdamTudor</td>\n",
       "      <td>1</td>\n",
       "    </tr>\n",
       "    <tr>\n",
       "      <th>1538</th>\n",
       "      <td>AdenLie</td>\n",
       "      <td>1</td>\n",
       "    </tr>\n",
       "    <tr>\n",
       "      <th>2755</th>\n",
       "      <td>AlienHeroine</td>\n",
       "      <td>1</td>\n",
       "    </tr>\n",
       "    <tr>\n",
       "      <th>2933</th>\n",
       "      <td>AllieFWxMD</td>\n",
       "      <td>1</td>\n",
       "    </tr>\n",
       "    <tr>\n",
       "      <th>3372</th>\n",
       "      <td>AmrEgy</td>\n",
       "      <td>1</td>\n",
       "    </tr>\n",
       "  </tbody>\n",
       "</table>\n",
       "</div>"
      ],
      "text/plain": [
       "               user  total_play_count\n",
       "236            09-D                 1\n",
       "294             12k                 1\n",
       "647             70x                 1\n",
       "653         77klash                 1\n",
       "1461  AdamKritz7861                 1\n",
       "1473      AdamTudor                 1\n",
       "1538        AdenLie                 1\n",
       "2755   AlienHeroine                 1\n",
       "2933     AllieFWxMD                 1\n",
       "3372         AmrEgy                 1"
      ]
     },
     "execution_count": 11,
     "metadata": {},
     "output_type": "execute_result"
    }
   ],
   "source": [
    "# bottom 10 users\n",
    "user_totalplay.nsmallest(10, 'total_play_count')"
   ]
  },
  {
   "cell_type": "code",
   "execution_count": 12,
   "id": "4149e0a2",
   "metadata": {},
   "outputs": [
    {
     "data": {
      "image/png": "[encoded data removed]",
      "text/plain": [
       "<Figure size 720x432 with 1 Axes>"
      ]
     },
     "metadata": {
      "needs_background": "light"
     },
     "output_type": "display_data"
    }
   ],
   "source": [
    "# graph distribution of total play count across users\n",
    "plt.figure(figsize=(10, 6))\n",
    "plt.hist(user_totalplay['total_play_count'], bins=100, edgecolor='k', alpha=0.7)\n",
    "\n",
    "plt.yscale('log', nonpositive='clip') \n",
    "\n",
    "plt.title('Distribution of Total Play Count')\n",
    "plt.xlabel('Total Play Count')\n",
    "plt.ylabel('Frequency (Log Scale)')\n",
    "\n",
    "# setting the x-axis to display whole numbers using a custom formatter\n",
    "ax = plt.gca()\n",
    "ax.xaxis.set_major_formatter(ticker.StrMethodFormatter('{x:,.0f}'))\n",
    "\n",
    "plt.show()"
   ]
  },
  {
   "cell_type": "markdown",
   "id": "3bad8ee5",
   "metadata": {},
   "source": [
    "### Artist"
   ]
  },
  {
   "cell_type": "code",
   "execution_count": 13,
   "id": "1f0d303c",
   "metadata": {},
   "outputs": [
    {
     "name": "stdout",
     "output_type": "stream",
     "text": [
      "Number of Unique Artists:\n",
      "97310\n"
     ]
    }
   ],
   "source": [
    "# get number of unique artists\n",
    "print(f'Number of Unique Artists:\\n{user_df[\"artist_name\"].nunique()}')"
   ]
  },
  {
   "cell_type": "code",
   "execution_count": 14,
   "id": "9aec3b0b",
   "metadata": {},
   "outputs": [],
   "source": [
    "# dataframe of artists by total play count to analyze popularity\n",
    "artist_totalplay = user_df.groupby('artist_name')['play_count'].sum().reset_index(name='total_play_count')"
   ]
  },
  {
   "cell_type": "code",
   "execution_count": 15,
   "id": "4f070166",
   "metadata": {},
   "outputs": [
    {
     "data": {
      "text/html": [
       "<div>\n",
       "<style scoped>\n",
       "    .dataframe tbody tr th:only-of-type {\n",
       "        vertical-align: middle;\n",
       "    }\n",
       "\n",
       "    .dataframe tbody tr th {\n",
       "        vertical-align: top;\n",
       "    }\n",
       "\n",
       "    .dataframe thead th {\n",
       "        text-align: right;\n",
       "    }\n",
       "</style>\n",
       "<table border=\"1\" class=\"dataframe\">\n",
       "  <thead>\n",
       "    <tr style=\"text-align: right;\">\n",
       "      <th></th>\n",
       "      <th>artist_name</th>\n",
       "      <th>total_play_count</th>\n",
       "    </tr>\n",
       "  </thead>\n",
       "  <tbody>\n",
       "    <tr>\n",
       "      <th>64569</th>\n",
       "      <td>Radiohead</td>\n",
       "      <td>41983697</td>\n",
       "    </tr>\n",
       "    <tr>\n",
       "      <th>76600</th>\n",
       "      <td>Taylor Swift</td>\n",
       "      <td>34268632</td>\n",
       "    </tr>\n",
       "    <tr>\n",
       "      <th>45673</th>\n",
       "      <td>Lady Gaga</td>\n",
       "      <td>32091963</td>\n",
       "    </tr>\n",
       "    <tr>\n",
       "      <th>5846</th>\n",
       "      <td>Arctic Monkeys</td>\n",
       "      <td>26447442</td>\n",
       "    </tr>\n",
       "    <tr>\n",
       "      <th>45808</th>\n",
       "      <td>Lana Del Rey</td>\n",
       "      <td>25931664</td>\n",
       "    </tr>\n",
       "    <tr>\n",
       "      <th>12187</th>\n",
       "      <td>Britney Spears</td>\n",
       "      <td>24100274</td>\n",
       "    </tr>\n",
       "    <tr>\n",
       "      <th>55766</th>\n",
       "      <td>Muse</td>\n",
       "      <td>22845764</td>\n",
       "    </tr>\n",
       "    <tr>\n",
       "      <th>16649</th>\n",
       "      <td>Coldplay</td>\n",
       "      <td>21327175</td>\n",
       "    </tr>\n",
       "    <tr>\n",
       "      <th>53064</th>\n",
       "      <td>Metallica</td>\n",
       "      <td>20587889</td>\n",
       "    </tr>\n",
       "    <tr>\n",
       "      <th>47485</th>\n",
       "      <td>Linkin Park</td>\n",
       "      <td>18686664</td>\n",
       "    </tr>\n",
       "  </tbody>\n",
       "</table>\n",
       "</div>"
      ],
      "text/plain": [
       "          artist_name  total_play_count\n",
       "64569       Radiohead          41983697\n",
       "76600    Taylor Swift          34268632\n",
       "45673       Lady Gaga          32091963\n",
       "5846   Arctic Monkeys          26447442\n",
       "45808    Lana Del Rey          25931664\n",
       "12187  Britney Spears          24100274\n",
       "55766            Muse          22845764\n",
       "16649        Coldplay          21327175\n",
       "53064       Metallica          20587889\n",
       "47485     Linkin Park          18686664"
      ]
     },
     "execution_count": 15,
     "metadata": {},
     "output_type": "execute_result"
    }
   ],
   "source": [
    "# top 10 artists\n",
    "artist_totalplay.nlargest(10, 'total_play_count')"
   ]
  },
  {
   "cell_type": "code",
   "execution_count": 16,
   "id": "45857c0c",
   "metadata": {},
   "outputs": [
    {
     "data": {
      "text/html": [
       "<div>\n",
       "<style scoped>\n",
       "    .dataframe tbody tr th:only-of-type {\n",
       "        vertical-align: middle;\n",
       "    }\n",
       "\n",
       "    .dataframe tbody tr th {\n",
       "        vertical-align: top;\n",
       "    }\n",
       "\n",
       "    .dataframe thead th {\n",
       "        text-align: right;\n",
       "    }\n",
       "</style>\n",
       "<table border=\"1\" class=\"dataframe\">\n",
       "  <thead>\n",
       "    <tr style=\"text-align: right;\">\n",
       "      <th></th>\n",
       "      <th>artist_name</th>\n",
       "      <th>total_play_count</th>\n",
       "    </tr>\n",
       "  </thead>\n",
       "  <tbody>\n",
       "    <tr>\n",
       "      <th>64569</th>\n",
       "      <td>Radiohead</td>\n",
       "      <td>41983697</td>\n",
       "    </tr>\n",
       "    <tr>\n",
       "      <th>76600</th>\n",
       "      <td>Taylor Swift</td>\n",
       "      <td>34268632</td>\n",
       "    </tr>\n",
       "    <tr>\n",
       "      <th>45673</th>\n",
       "      <td>Lady Gaga</td>\n",
       "      <td>32091963</td>\n",
       "    </tr>\n",
       "    <tr>\n",
       "      <th>5846</th>\n",
       "      <td>Arctic Monkeys</td>\n",
       "      <td>26447442</td>\n",
       "    </tr>\n",
       "    <tr>\n",
       "      <th>45808</th>\n",
       "      <td>Lana Del Rey</td>\n",
       "      <td>25931664</td>\n",
       "    </tr>\n",
       "    <tr>\n",
       "      <th>12187</th>\n",
       "      <td>Britney Spears</td>\n",
       "      <td>24100274</td>\n",
       "    </tr>\n",
       "    <tr>\n",
       "      <th>55766</th>\n",
       "      <td>Muse</td>\n",
       "      <td>22845764</td>\n",
       "    </tr>\n",
       "    <tr>\n",
       "      <th>16649</th>\n",
       "      <td>Coldplay</td>\n",
       "      <td>21327175</td>\n",
       "    </tr>\n",
       "    <tr>\n",
       "      <th>53064</th>\n",
       "      <td>Metallica</td>\n",
       "      <td>20587889</td>\n",
       "    </tr>\n",
       "    <tr>\n",
       "      <th>47485</th>\n",
       "      <td>Linkin Park</td>\n",
       "      <td>18686664</td>\n",
       "    </tr>\n",
       "  </tbody>\n",
       "</table>\n",
       "</div>"
      ],
      "text/plain": [
       "          artist_name  total_play_count\n",
       "64569       Radiohead          41983697\n",
       "76600    Taylor Swift          34268632\n",
       "45673       Lady Gaga          32091963\n",
       "5846   Arctic Monkeys          26447442\n",
       "45808    Lana Del Rey          25931664\n",
       "12187  Britney Spears          24100274\n",
       "55766            Muse          22845764\n",
       "16649        Coldplay          21327175\n",
       "53064       Metallica          20587889\n",
       "47485     Linkin Park          18686664"
      ]
     },
     "execution_count": 16,
     "metadata": {},
     "output_type": "execute_result"
    }
   ],
   "source": [
    "# bottom 10 artists\n",
    "artist_totalplay.nlargest(10, 'total_play_count')"
   ]
  },
  {
   "cell_type": "code",
   "execution_count": 17,
   "id": "137d5e6a",
   "metadata": {},
   "outputs": [
    {
     "data": {
      "image/png": "[encoded data removed]",
      "text/plain": [
       "<Figure size 936x432 with 1 Axes>"
      ]
     },
     "metadata": {
      "needs_background": "light"
     },
     "output_type": "display_data"
    }
   ],
   "source": [
    "# graph top 30 artists and their total play count\n",
    "# idk how useful this is so it could be tweaked\n",
    "top_artists = artist_totalplay.nlargest(30, 'total_play_count')\n",
    "\n",
    "plt.figure(figsize=(13, 6))\n",
    "plt.bar(range(len(top_artists['artist_name'])), top_artists['total_play_count'], align='center', edgecolor='k', alpha=0.7)\n",
    "\n",
    "plt.yscale('log', nonpositive='clip') \n",
    "\n",
    "plt.title('Top 30 Artists by Total Play Count')\n",
    "plt.xlabel('Artist')\n",
    "plt.ylabel('Total Play Count (Log Scale)')\n",
    "\n",
    "plt.xticks(range(len(top_artists['artist_name'])), top_artists['artist_name'], rotation=60)\n",
    "\n",
    "plt.show()"
   ]
  },
  {
   "cell_type": "markdown",
   "id": "f5dbd05b",
   "metadata": {},
   "source": [
    "## Bivariate Analysis"
   ]
  },
  {
   "cell_type": "code",
   "execution_count": null,
   "id": "cef2c220",
   "metadata": {},
   "outputs": [],
   "source": []
  }
 ],
 "metadata": {
  "kernelspec": {
   "display_name": "Python 3 (ipykernel)",
   "language": "python",
   "name": "python3"
  },
  "language_info": {
   "codemirror_mode": {
    "name": "ipython",
    "version": 3
   },
   "file_extension": ".py",
   "mimetype": "text/x-python",
   "name": "python",
   "nbconvert_exporter": "python",
   "pygments_lexer": "ipython3",
   "version": "3.9.7"
  }
 },
 "nbformat": 4,
 "nbformat_minor": 5
}
