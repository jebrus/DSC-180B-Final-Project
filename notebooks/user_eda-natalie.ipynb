{
 "cells": [
  {
   "cell_type": "markdown",
   "id": "57f18ced",
   "metadata": {},
   "source": [
    "# Last.fm User Exploratory Data Analysis"
   ]
  },
  {
   "cell_type": "markdown",
   "id": "7d883589",
   "metadata": {},
   "source": [
    "note: explore bivariate analysis between artist's play count and their location but that requires combining location data, maybe look into outliers?, include more interpretations and comment more later to make it more professional"
   ]
  },
  {
   "cell_type": "markdown",
   "id": "58b48b36",
   "metadata": {},
   "source": [
    "## Setup and Load Dataset"
   ]
  },
  {
   "cell_type": "code",
   "execution_count": 1,
   "id": "33b2ab50",
   "metadata": {},
   "outputs": [],
   "source": [
    "import pandas as pd\n",
    "import matplotlib.pyplot as plt\n",
    "import matplotlib.ticker as ticker"
   ]
  },
  {
   "cell_type": "code",
   "execution_count": null,
   "id": "272b8169",
   "metadata": {},
   "outputs": [],
   "source": [
    "# read in user data\n",
    "file_path = r'C:\\Users\\radia\\Documents\\4th year\\w_23\\dsc180b_w23\\filtered_user_df.csv'\n",
    "user_df = pd.read_csv(file_path)"
   ]
  },
  {
   "cell_type": "code",
   "execution_count": null,
   "id": "e1b19b41",
   "metadata": {},
   "outputs": [],
   "source": [
    "# drop unnecessary columns\n",
    "user_df.drop(columns=['Unnamed: 0', 'Unnamed: 0.1'], inplace=True)"
   ]
  },
  {
   "cell_type": "code",
   "execution_count": null,
   "id": "bce1578d",
   "metadata": {},
   "outputs": [],
   "source": [
    "# display data\n",
    "user_df.head()"
   ]
  },
  {
   "cell_type": "code",
   "execution_count": null,
   "id": "4fe6854f",
   "metadata": {},
   "outputs": [],
   "source": [
    "# basic understanding of dataset\n",
    "print(f'DataFrame Shape:\\n{user_df.shape}\\n')\n",
    "\n",
    "print(f'DataFrame Column Types:\\n{user_df.dtypes}\\n')\n",
    "\n",
    "print(f'Number of Missing Values:\\n{user_df.isna().sum()}')"
   ]
  },
  {
   "cell_type": "markdown",
   "id": "a3b3e492",
   "metadata": {},
   "source": [
    "## Numerical Analysis"
   ]
  },
  {
   "cell_type": "markdown",
   "id": "f4c0e20f",
   "metadata": {},
   "source": [
    "### Play Count"
   ]
  },
  {
   "cell_type": "code",
   "execution_count": null,
   "id": "572d35ca",
   "metadata": {},
   "outputs": [],
   "source": [
    "# get summary statistics of play count\n",
    "user_df['play_count'].describe()"
   ]
  },
  {
   "cell_type": "code",
   "execution_count": null,
   "id": "0311f40c",
   "metadata": {},
   "outputs": [],
   "source": [
    "# plot distribution of play count\n",
    "plt.figure(figsize=(10, 6))\n",
    "plt.hist(user_df['play_count'], bins=100, edgecolor='k', alpha=0.7)\n",
    "\n",
    "plt.yscale('log', nonpositive='clip') \n",
    "\n",
    "plt.title('Distribution of Play Count')\n",
    "plt.xlabel('Play Count')\n",
    "plt.ylabel('Frequency (Log Scale)')\n",
    "\n",
    "# setting the x-axis to display whole numbers using a custom formatter\n",
    "ax = plt.gca()\n",
    "ax.xaxis.set_major_formatter(ticker.StrMethodFormatter('{x:,.0f}'))\n",
    "\n",
    "plt.show()"
   ]
  },
  {
   "cell_type": "markdown",
   "id": "7a7c776a",
   "metadata": {},
   "source": [
    "# Categorical Analysis"
   ]
  },
  {
   "cell_type": "markdown",
   "id": "e08298e1",
   "metadata": {},
   "source": [
    "### User"
   ]
  },
  {
   "cell_type": "code",
   "execution_count": null,
   "id": "dfa9c6c2",
   "metadata": {},
   "outputs": [],
   "source": [
    "# get number of unique \n",
    "print(f'Number of Unique Users:\\n{user_df[\"user\"].nunique()}')"
   ]
  },
  {
   "cell_type": "code",
   "execution_count": null,
   "id": "72390a83",
   "metadata": {},
   "outputs": [],
   "source": [
    "# dataframe of users by total play count to analyze usage\n",
    "user_totalplay = user_df.groupby('user')['play_count'].sum().reset_index(name='total_play_count')"
   ]
  },
  {
   "cell_type": "code",
   "execution_count": null,
   "id": "b9cf54db",
   "metadata": {},
   "outputs": [],
   "source": [
    "# top 10 users\n",
    "user_totalplay.nlargest(10, 'total_play_count')"
   ]
  },
  {
   "cell_type": "code",
   "execution_count": null,
   "id": "6338aede",
   "metadata": {},
   "outputs": [],
   "source": [
    "# bottom 10 users\n",
    "user_totalplay.nsmallest(10, 'total_play_count')"
   ]
  },
  {
   "cell_type": "code",
   "execution_count": null,
   "id": "f56d56c6",
   "metadata": {},
   "outputs": [],
   "source": [
    "# graph distribution of total play count across users\n",
    "plt.figure(figsize=(10, 6))\n",
    "plt.hist(user_totalplay['total_play_count'], bins=100, edgecolor='k', alpha=0.7)\n",
    "\n",
    "plt.yscale('log', nonpositive='clip') \n",
    "\n",
    "plt.title('Distribution of Total Play Count')\n",
    "plt.xlabel('Total Play Count')\n",
    "plt.ylabel('Frequency (Log Scale)')\n",
    "\n",
    "# setting the x-axis to display whole numbers using a custom formatter\n",
    "ax = plt.gca()\n",
    "ax.xaxis.set_major_formatter(ticker.StrMethodFormatter('{x:,.0f}'))\n",
    "\n",
    "plt.show()"
   ]
  },
  {
   "cell_type": "markdown",
   "id": "409254a6",
   "metadata": {},
   "source": [
    "### Artist"
   ]
  },
  {
   "cell_type": "code",
   "execution_count": null,
   "id": "34480189",
   "metadata": {},
   "outputs": [],
   "source": [
    "# get number of unique artists\n",
    "print(f'Number of Unique Artists:\\n{user_df[\"artist_name\"].nunique()}')"
   ]
  },
  {
   "cell_type": "code",
   "execution_count": null,
   "id": "06bbba6d",
   "metadata": {},
   "outputs": [],
   "source": [
    "# dataframe of artists by total play count to analyze popularity\n",
    "artist_totalplay = user_df.groupby('artist_name')['play_count'].sum().reset_index(name='total_play_count')"
   ]
  },
  {
   "cell_type": "code",
   "execution_count": null,
   "id": "3ed1821b",
   "metadata": {},
   "outputs": [],
   "source": [
    "# top 10 artists\n",
    "artist_totalplay.nlargest(10, 'total_play_count')"
   ]
  },
  {
   "cell_type": "code",
   "execution_count": null,
   "id": "2c2eaa2e",
   "metadata": {},
   "outputs": [],
   "source": [
    "# bottom 10 artists\n",
    "artist_totalplay.nlargest(10, 'total_play_count')"
   ]
  },
  {
   "cell_type": "code",
   "execution_count": null,
   "id": "e9d20fe5",
   "metadata": {},
   "outputs": [],
   "source": [
    "# graph top 30 artists and their total play count\n",
    "# idk how useful this is so it could be tweaked\n",
    "top_artists = artist_totalplay.nlargest(30, 'total_play_count')\n",
    "\n",
    "plt.figure(figsize=(13, 6))\n",
    "plt.bar(range(len(top_artists['artist_name'])), top_artists['total_play_count'], align='center', edgecolor='k', alpha=0.7)\n",
    "\n",
    "plt.yscale('log', nonpositive='clip') \n",
    "\n",
    "plt.title('Top 30 Artists by Total Play Count')\n",
    "plt.xlabel('Artist')\n",
    "plt.ylabel('Total Play Count (Log Scale)')\n",
    "\n",
    "plt.xticks(range(len(top_artists['artist_name'])), top_artists['artist_name'], rotation=60)\n",
    "\n",
    "plt.show()"
   ]
  },
  {
   "cell_type": "markdown",
   "id": "00da731a",
   "metadata": {},
   "source": [
    "## Bivariate Analysis"
   ]
  },
  {
   "cell_type": "code",
   "execution_count": null,
   "id": "975c5a1b",
   "metadata": {},
   "outputs": [],
   "source": []
  }
 ],
 "metadata": {
  "kernelspec": {
   "display_name": "Python 3 (ipykernel)",
   "language": "python",
   "name": "python3"
  },
  "language_info": {
   "codemirror_mode": {
    "name": "ipython",
    "version": 3
   },
   "file_extension": ".py",
   "mimetype": "text/x-python",
   "name": "python",
   "nbconvert_exporter": "python",
   "pygments_lexer": "ipython3",
   "version": "3.9.7"
  }
 },
 "nbformat": 4,
 "nbformat_minor": 5
}
