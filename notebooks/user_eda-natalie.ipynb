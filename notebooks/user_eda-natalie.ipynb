{
 "cells": [
  {
   "cell_type": "markdown",
   "id": "047c1a9b",
   "metadata": {},
   "source": [
    "# Last.fm User Exploratory Data Analysis"
   ]
  },
  {
   "cell_type": "markdown",
   "id": "9a11412b",
   "metadata": {},
   "source": [
    "note: explore bivariate analysis between artist's play count and their location, include more interpretations later to make it more professional"
   ]
  },
  {
   "cell_type": "markdown",
   "id": "06fc23a2",
   "metadata": {},
   "source": [
    "## Setup and Load Dataset"
   ]
  },
  {
   "cell_type": "code",
   "execution_count": 8,
   "id": "c061fd60",
   "metadata": {},
   "outputs": [],
   "source": [
    "import pandas as pd\n",
    "import matplotlib as plt"
   ]
  },
  {
   "cell_type": "code",
   "execution_count": 6,
   "id": "272b8169",
   "metadata": {},
   "outputs": [],
   "source": [
    "# read in user data\n",
    "file_path = r'C:\\Users\\radia\\Documents\\4th year\\w_23\\dsc180b_w23\\filtered_user_df.csv'\n",
    "user_df = pd.read_csv(file_path)"
   ]
  },
  {
   "cell_type": "code",
   "execution_count": 7,
   "id": "e1b19b41",
   "metadata": {},
   "outputs": [
    {
     "data": {
      "text/html": [
       "<div>\n",
       "<style scoped>\n",
       "    .dataframe tbody tr th:only-of-type {\n",
       "        vertical-align: middle;\n",
       "    }\n",
       "\n",
       "    .dataframe tbody tr th {\n",
       "        vertical-align: top;\n",
       "    }\n",
       "\n",
       "    .dataframe thead th {\n",
       "        text-align: right;\n",
       "    }\n",
       "</style>\n",
       "<table border=\"1\" class=\"dataframe\">\n",
       "  <thead>\n",
       "    <tr style=\"text-align: right;\">\n",
       "      <th></th>\n",
       "      <th>Unnamed: 0</th>\n",
       "      <th>Unnamed: 0.1</th>\n",
       "      <th>user</th>\n",
       "      <th>artist_name</th>\n",
       "      <th>play_count</th>\n",
       "      <th>artist_url</th>\n",
       "    </tr>\n",
       "  </thead>\n",
       "  <tbody>\n",
       "    <tr>\n",
       "      <th>0</th>\n",
       "      <td>0</td>\n",
       "      <td>0</td>\n",
       "      <td>nyancrimew</td>\n",
       "      <td>Jasmine Thompson</td>\n",
       "      <td>7559</td>\n",
       "      <td>https://www.last.fm/music/Jasmine+Thompson</td>\n",
       "    </tr>\n",
       "    <tr>\n",
       "      <th>1</th>\n",
       "      <td>1</td>\n",
       "      <td>1</td>\n",
       "      <td>nyancrimew</td>\n",
       "      <td>Eminem</td>\n",
       "      <td>5851</td>\n",
       "      <td>https://www.last.fm/music/Eminem</td>\n",
       "    </tr>\n",
       "    <tr>\n",
       "      <th>2</th>\n",
       "      <td>2</td>\n",
       "      <td>2</td>\n",
       "      <td>nyancrimew</td>\n",
       "      <td>Watsky</td>\n",
       "      <td>3044</td>\n",
       "      <td>https://www.last.fm/music/Watsky</td>\n",
       "    </tr>\n",
       "    <tr>\n",
       "      <th>3</th>\n",
       "      <td>3</td>\n",
       "      <td>3</td>\n",
       "      <td>nyancrimew</td>\n",
       "      <td>Linkin Park</td>\n",
       "      <td>2938</td>\n",
       "      <td>https://www.last.fm/music/Linkin+Park</td>\n",
       "    </tr>\n",
       "    <tr>\n",
       "      <th>4</th>\n",
       "      <td>7</td>\n",
       "      <td>7</td>\n",
       "      <td>nyancrimew</td>\n",
       "      <td>twenty one pilots</td>\n",
       "      <td>1849</td>\n",
       "      <td>https://www.last.fm/music/twenty+one+pilots</td>\n",
       "    </tr>\n",
       "  </tbody>\n",
       "</table>\n",
       "</div>"
      ],
      "text/plain": [
       "   Unnamed: 0  Unnamed: 0.1        user        artist_name  play_count  \\\n",
       "0           0             0  nyancrimew   Jasmine Thompson        7559   \n",
       "1           1             1  nyancrimew             Eminem        5851   \n",
       "2           2             2  nyancrimew             Watsky        3044   \n",
       "3           3             3  nyancrimew        Linkin Park        2938   \n",
       "4           7             7  nyancrimew  twenty one pilots        1849   \n",
       "\n",
       "                                    artist_url  \n",
       "0   https://www.last.fm/music/Jasmine+Thompson  \n",
       "1             https://www.last.fm/music/Eminem  \n",
       "2             https://www.last.fm/music/Watsky  \n",
       "3        https://www.last.fm/music/Linkin+Park  \n",
       "4  https://www.last.fm/music/twenty+one+pilots  "
      ]
     },
     "execution_count": 7,
     "metadata": {},
     "output_type": "execute_result"
    }
   ],
   "source": [
    "# drop unnecessary "
   ]
  },
  {
   "cell_type": "code",
   "execution_count": null,
   "id": "5369842e",
   "metadata": {},
   "outputs": [],
   "source": [
    "# display data\n",
    "user_df.head()"
   ]
  }
 ],
 "metadata": {
  "kernelspec": {
   "display_name": "Python 3 (ipykernel)",
   "language": "python",
   "name": "python3"
  },
  "language_info": {
   "codemirror_mode": {
    "name": "ipython",
    "version": 3
   },
   "file_extension": ".py",
   "mimetype": "text/x-python",
   "name": "python",
   "nbconvert_exporter": "python",
   "pygments_lexer": "ipython3",
   "version": "3.9.7"
  }
 },
 "nbformat": 4,
 "nbformat_minor": 5
}
