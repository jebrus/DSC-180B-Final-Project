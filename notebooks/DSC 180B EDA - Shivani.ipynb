{
 "cells": [
  {
   "cell_type": "markdown",
   "id": "2f251c44",
   "metadata": {},
   "source": [
    "## Importing Data"
   ]
  },
  {
   "cell_type": "code",
   "execution_count": 7,
   "id": "5046b0ad",
   "metadata": {},
   "outputs": [],
   "source": [
    "import pandas as pd"
   ]
  },
  {
   "cell_type": "code",
   "execution_count": 8,
   "id": "63491f93",
   "metadata": {},
   "outputs": [
    {
     "data": {
      "text/html": [
       "<div>\n",
       "<style scoped>\n",
       "    .dataframe tbody tr th:only-of-type {\n",
       "        vertical-align: middle;\n",
       "    }\n",
       "\n",
       "    .dataframe tbody tr th {\n",
       "        vertical-align: top;\n",
       "    }\n",
       "\n",
       "    .dataframe thead th {\n",
       "        text-align: right;\n",
       "    }\n",
       "</style>\n",
       "<table border=\"1\" class=\"dataframe\">\n",
       "  <thead>\n",
       "    <tr style=\"text-align: right;\">\n",
       "      <th></th>\n",
       "      <th>Unnamed: 0</th>\n",
       "      <th>user</th>\n",
       "      <th>artist_name</th>\n",
       "      <th>play_count</th>\n",
       "      <th>artist_url</th>\n",
       "    </tr>\n",
       "  </thead>\n",
       "  <tbody>\n",
       "    <tr>\n",
       "      <th>0</th>\n",
       "      <td>0</td>\n",
       "      <td>nyancrimew</td>\n",
       "      <td>Jasmine Thompson</td>\n",
       "      <td>7559</td>\n",
       "      <td>https://www.last.fm/music/Jasmine+Thompson</td>\n",
       "    </tr>\n",
       "    <tr>\n",
       "      <th>1</th>\n",
       "      <td>1</td>\n",
       "      <td>nyancrimew</td>\n",
       "      <td>Eminem</td>\n",
       "      <td>5851</td>\n",
       "      <td>https://www.last.fm/music/Eminem</td>\n",
       "    </tr>\n",
       "    <tr>\n",
       "      <th>2</th>\n",
       "      <td>2</td>\n",
       "      <td>nyancrimew</td>\n",
       "      <td>Watsky</td>\n",
       "      <td>3044</td>\n",
       "      <td>https://www.last.fm/music/Watsky</td>\n",
       "    </tr>\n",
       "    <tr>\n",
       "      <th>3</th>\n",
       "      <td>3</td>\n",
       "      <td>nyancrimew</td>\n",
       "      <td>Linkin Park</td>\n",
       "      <td>2938</td>\n",
       "      <td>https://www.last.fm/music/Linkin+Park</td>\n",
       "    </tr>\n",
       "    <tr>\n",
       "      <th>4</th>\n",
       "      <td>4</td>\n",
       "      <td>nyancrimew</td>\n",
       "      <td>Cavetown</td>\n",
       "      <td>2857</td>\n",
       "      <td>https://www.last.fm/music/Cavetown</td>\n",
       "    </tr>\n",
       "    <tr>\n",
       "      <th>...</th>\n",
       "      <td>...</td>\n",
       "      <td>...</td>\n",
       "      <td>...</td>\n",
       "      <td>...</td>\n",
       "      <td>...</td>\n",
       "    </tr>\n",
       "    <tr>\n",
       "      <th>3859851</th>\n",
       "      <td>10011</td>\n",
       "      <td>superYos</td>\n",
       "      <td>Geva Alon</td>\n",
       "      <td>108</td>\n",
       "      <td>https://www.last.fm/music/Geva+Alon</td>\n",
       "    </tr>\n",
       "    <tr>\n",
       "      <th>3859852</th>\n",
       "      <td>10012</td>\n",
       "      <td>superYos</td>\n",
       "      <td>Rami Fortis</td>\n",
       "      <td>100</td>\n",
       "      <td>https://www.last.fm/music/Rami+Fortis</td>\n",
       "    </tr>\n",
       "    <tr>\n",
       "      <th>3859853</th>\n",
       "      <td>10013</td>\n",
       "      <td>superYos</td>\n",
       "      <td>Placebo</td>\n",
       "      <td>97</td>\n",
       "      <td>https://www.last.fm/music/Placebo</td>\n",
       "    </tr>\n",
       "    <tr>\n",
       "      <th>3859854</th>\n",
       "      <td>10014</td>\n",
       "      <td>superYos</td>\n",
       "      <td>Red House Painters</td>\n",
       "      <td>96</td>\n",
       "      <td>https://www.last.fm/music/Red+House+Painters</td>\n",
       "    </tr>\n",
       "    <tr>\n",
       "      <th>3859855</th>\n",
       "      <td>10015</td>\n",
       "      <td>superYos</td>\n",
       "      <td>Air Supply</td>\n",
       "      <td>94</td>\n",
       "      <td>https://www.last.fm/music/Air+Supply</td>\n",
       "    </tr>\n",
       "  </tbody>\n",
       "</table>\n",
       "<p>3859856 rows × 5 columns</p>\n",
       "</div>"
      ],
      "text/plain": [
       "         Unnamed: 0        user         artist_name  play_count  \\\n",
       "0                 0  nyancrimew    Jasmine Thompson        7559   \n",
       "1                 1  nyancrimew              Eminem        5851   \n",
       "2                 2  nyancrimew              Watsky        3044   \n",
       "3                 3  nyancrimew         Linkin Park        2938   \n",
       "4                 4  nyancrimew            Cavetown        2857   \n",
       "...             ...         ...                 ...         ...   \n",
       "3859851       10011    superYos           Geva Alon         108   \n",
       "3859852       10012    superYos         Rami Fortis         100   \n",
       "3859853       10013    superYos             Placebo          97   \n",
       "3859854       10014    superYos  Red House Painters          96   \n",
       "3859855       10015    superYos          Air Supply          94   \n",
       "\n",
       "                                           artist_url  \n",
       "0          https://www.last.fm/music/Jasmine+Thompson  \n",
       "1                    https://www.last.fm/music/Eminem  \n",
       "2                    https://www.last.fm/music/Watsky  \n",
       "3               https://www.last.fm/music/Linkin+Park  \n",
       "4                  https://www.last.fm/music/Cavetown  \n",
       "...                                               ...  \n",
       "3859851           https://www.last.fm/music/Geva+Alon  \n",
       "3859852         https://www.last.fm/music/Rami+Fortis  \n",
       "3859853             https://www.last.fm/music/Placebo  \n",
       "3859854  https://www.last.fm/music/Red+House+Painters  \n",
       "3859855          https://www.last.fm/music/Air+Supply  \n",
       "\n",
       "[3859856 rows x 5 columns]"
      ]
     },
     "execution_count": 8,
     "metadata": {},
     "output_type": "execute_result"
    }
   ],
   "source": [
    "raw_df = pd.read_csv('user-df-1-22-2024.csv')\n",
    "\n",
    "raw_df"
   ]
  },
  {
   "cell_type": "markdown",
   "id": "553a9b65",
   "metadata": {},
   "source": [
    "## EDA"
   ]
  },
  {
   "cell_type": "code",
   "execution_count": 10,
   "id": "76cc4b77",
   "metadata": {},
   "outputs": [
    {
     "name": "stdout",
     "output_type": "stream",
     "text": [
      "79286\n"
     ]
    }
   ],
   "source": [
    "# Seeing how many different users there are\n",
    "\n",
    "unique_users = raw_df['user'].nunique()\n",
    "print(unique_users)"
   ]
  },
  {
   "cell_type": "code",
   "execution_count": 15,
   "id": "d09b30e4",
   "metadata": {},
   "outputs": [
    {
     "name": "stdout",
     "output_type": "stream",
     "text": [
      "count    3.859856e+06\n",
      "mean     5.726113e+02\n",
      "std      2.529242e+03\n",
      "min      1.000000e+00\n",
      "25%      6.700000e+01\n",
      "50%      2.270000e+02\n",
      "75%      5.830000e+02\n",
      "max      1.441129e+06\n",
      "Name: play_count, dtype: float64\n"
     ]
    }
   ],
   "source": [
    "# Quick summary stats of play count\n",
    "\n",
    "print(raw_df['play_count'].describe())"
   ]
  },
  {
   "cell_type": "code",
   "execution_count": 20,
   "id": "8d4bf5b7",
   "metadata": {},
   "outputs": [
    {
     "name": "stdout",
     "output_type": "stream",
     "text": [
      "Total number of unique artists: 226981\n"
     ]
    }
   ],
   "source": [
    "# Number of unique artists\n",
    "\n",
    "unique_artists = raw_df['artist_name'].nunique()\n",
    "print(f\"Total number of unique artists: {unique_artists}\")"
   ]
  },
  {
   "cell_type": "code",
   "execution_count": 17,
   "id": "aa989d10",
   "metadata": {
    "scrolled": true
   },
   "outputs": [
    {
     "name": "stdout",
     "output_type": "stream",
     "text": [
      "artist_name\n",
      "Radiohead                19331\n",
      "The Beatles              17751\n",
      "Coldplay                 14040\n",
      "Arctic Monkeys           11764\n",
      "Muse                     11581\n",
      "Pink Floyd               10766\n",
      "Red Hot Chili Peppers    10009\n",
      "Nirvana                   9554\n",
      "Lady Gaga                 9287\n",
      "Metallica                 8987\n",
      "Name: user, dtype: int64\n"
     ]
    }
   ],
   "source": [
    "# Seeing the top artists (by unique user count)\n",
    "\n",
    "## Allows us to see the breadth of an artist's appeal across different listeners.\n",
    "\n",
    "top_artists = artist_user_count.sort_values(ascending=False)\n",
    "\n",
    "print(top_artists.head(10)) "
   ]
  },
  {
   "cell_type": "code",
   "execution_count": 18,
   "id": "f8345eb5",
   "metadata": {},
   "outputs": [
    {
     "name": "stdout",
     "output_type": "stream",
     "text": [
      "artist_name\n",
      "The Beatles       18027004\n",
      "Radiohead         17385024\n",
      "Taylor Swift      14251818\n",
      "Lady Gaga         12929141\n",
      "Pink Floyd        11121109\n",
      "Arctic Monkeys    10822601\n",
      "Lana Del Rey      10446504\n",
      "Britney Spears    10171404\n",
      "Muse               9175228\n",
      "Coldplay           8752301\n",
      "Name: play_count, dtype: int64\n"
     ]
    }
   ],
   "source": [
    "# Seeing top artists (by total play count)\n",
    "\n",
    "## Allows us to see the depth of an artist's appeal in terms of listening frequency. It can either be due to a small number\n",
    "## of dedicated fans or many fans \n",
    "\n",
    "top_artists = raw_df.groupby('artist_name')['play_count'].sum().sort_values(ascending=False).head(10)\n",
    "print(top_artists)"
   ]
  },
  {
   "cell_type": "code",
   "execution_count": 19,
   "id": "eb31dc91",
   "metadata": {},
   "outputs": [
    {
     "name": "stdout",
     "output_type": "stream",
     "text": [
      "user\n",
      "*Thomas*          4.363636\n",
      "--Nocturne--    429.080000\n",
      "--amadeus--     301.720000\n",
      "--fryser--      378.640000\n",
      "-273            826.680000\n",
      "                   ...    \n",
      "zzubevol        699.740000\n",
      "zzzonda         104.100000\n",
      "zzzooo          159.060000\n",
      "zzzxn           549.780000\n",
      "zzzzzzombie     189.300000\n",
      "Name: play_count, Length: 79286, dtype: float64\n"
     ]
    }
   ],
   "source": [
    "# Average number of plays per user\n",
    "\n",
    "average_plays_per_user = raw_df.groupby('user')['play_count'].mean()\n",
    "print(average_plays_per_user)"
   ]
  },
  {
   "cell_type": "code",
   "execution_count": 21,
   "id": "412da5b8",
   "metadata": {},
   "outputs": [
    {
     "data": {
      "image/png": "[encoded data removed]",
      "text/plain": [
       "<Figure size 1000x600 with 1 Axes>"
      ]
     },
     "metadata": {},
     "output_type": "display_data"
    }
   ],
   "source": [
    "# Distribution of play counts\n",
    "\n",
    "import matplotlib.pyplot as plt\n",
    "import matplotlib.ticker as ticker\n",
    "\n",
    "plt.figure(figsize=(10, 6))\n",
    "plt.hist(raw_df['play_count'], bins=100, color='blue', alpha=0.7)\n",
    "plt.yscale('log', nonpositive='clip') \n",
    "plt.title('Distribution of Play Counts')\n",
    "plt.xlabel('Play Counts')\n",
    "plt.ylabel('Frequency (Log Scale)')\n",
    "\n",
    "# Setting the x-axis to display whole numbers using a custom formatter\n",
    "ax = plt.gca()\n",
    "ax.xaxis.set_major_formatter(ticker.StrMethodFormatter('{x:,.0f}'))\n",
    "\n",
    "plt.show()"
   ]
  }
 ],
 "metadata": {
  "kernelspec": {
   "display_name": "Python 3 (ipykernel)",
   "language": "python",
   "name": "python3"
  },
  "language_info": {
   "codemirror_mode": {
    "name": "ipython",
    "version": 3
   },
   "file_extension": ".py",
   "mimetype": "text/x-python",
   "name": "python",
   "nbconvert_exporter": "python",
   "pygments_lexer": "ipython3",
   "version": "3.10.11"
  }
 },
 "nbformat": 4,
 "nbformat_minor": 5
}
